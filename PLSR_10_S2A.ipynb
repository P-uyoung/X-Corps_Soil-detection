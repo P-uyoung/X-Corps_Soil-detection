{
 "cells": [
  {
   "cell_type": "code",
   "execution_count": 1,
   "id": "4f7327d1",
   "metadata": {},
   "outputs": [],
   "source": [
    "# random forest regressor on 20m resolution images\n",
    "\n",
    "import numpy as np\n",
    "import pandas as pd\n",
    "import sklearn\n",
    "import math"
   ]
  },
  {
   "cell_type": "code",
   "execution_count": 2,
   "id": "34200198",
   "metadata": {},
   "outputs": [],
   "source": [
    "df = pd.read_csv(r\"./dataset-Icheon&CHL/2000_all_final_20221106.csv\", low_memory = False)"
   ]
  },
  {
   "cell_type": "code",
   "execution_count": 3,
   "id": "709308c6",
   "metadata": {},
   "outputs": [
    {
     "name": "stdout",
     "output_type": "stream",
     "text": [
      "<class 'pandas.core.frame.DataFrame'>\n",
      "RangeIndex: 322 entries, 0 to 321\n",
      "Data columns (total 39 columns):\n",
      " #   Column         Non-Null Count  Dtype  \n",
      "---  ------         --------------  -----  \n",
      " 0   id             322 non-null    int64  \n",
      " 1   xcoord(long)   322 non-null    float64\n",
      " 2   ycoord(lat)    322 non-null    float64\n",
      " 3   sampling date  322 non-null    object \n",
      " 4   sensing date   322 non-null    object \n",
      " 5   B1             322 non-null    float64\n",
      " 6   B2             322 non-null    float64\n",
      " 7   B3             322 non-null    float64\n",
      " 8   B4             322 non-null    float64\n",
      " 9   B5             322 non-null    float64\n",
      " 10  B6             322 non-null    float64\n",
      " 11  B7             322 non-null    float64\n",
      " 12  B8             322 non-null    float64\n",
      " 13  B9             322 non-null    float64\n",
      " 14  B10            322 non-null    float64\n",
      " 15  B11            322 non-null    float64\n",
      " 16  B12            322 non-null    float64\n",
      " 17  NDVI           322 non-null    float64\n",
      " 18  BSI            322 non-null    float64\n",
      " 19  EVI            322 non-null    float64\n",
      " 20  AVI            322 non-null    float64\n",
      " 21  SAVI           322 non-null    float64\n",
      " 22  NDMI           322 non-null    float64\n",
      " 23  C              283 non-null    float64\n",
      " 24  S              283 non-null    float64\n",
      " 25  SWHC           322 non-null    float64\n",
      " 26  Sand (%)       115 non-null    float64\n",
      " 27  Silt (%)       115 non-null    float64\n",
      " 28  Clay (%)       115 non-null    float64\n",
      " 29  SOC            322 non-null    float64\n",
      " 30  Unnamed: 30    0 non-null      float64\n",
      " 31  SWHC.1         85 non-null     object \n",
      " 32  S.1            85 non-null     object \n",
      " 33  Unnamed: 33    85 non-null     object \n",
      " 34  C.1            85 non-null     object \n",
      " 35  Unnamed: 35    85 non-null     object \n",
      " 36  ST             26 non-null     object \n",
      " 37  Unnamed: 37    26 non-null     object \n",
      " 38  Unnamed: 38    26 non-null     object \n",
      "dtypes: float64(28), int64(1), object(10)\n",
      "memory usage: 98.2+ KB\n"
     ]
    }
   ],
   "source": [
    "df.info()"
   ]
  },
  {
   "cell_type": "code",
   "execution_count": 4,
   "id": "6ce98761",
   "metadata": {},
   "outputs": [],
   "source": [
    "df = pd.DataFrame(df[['B1','B2','B3','B4','B5','B6','B7','B8','B9','B10','B11','B12','NDVI','BSI','EVI','AVI','SAVI','NDMI','SOC']])"
   ]
  },
  {
   "cell_type": "code",
   "execution_count": 28,
   "id": "722dfb98",
   "metadata": {},
   "outputs": [
    {
     "data": {
      "text/html": [
       "<div>\n",
       "<style scoped>\n",
       "    .dataframe tbody tr th:only-of-type {\n",
       "        vertical-align: middle;\n",
       "    }\n",
       "\n",
       "    .dataframe tbody tr th {\n",
       "        vertical-align: top;\n",
       "    }\n",
       "\n",
       "    .dataframe thead th {\n",
       "        text-align: right;\n",
       "    }\n",
       "</style>\n",
       "<table border=\"1\" class=\"dataframe\">\n",
       "  <thead>\n",
       "    <tr style=\"text-align: right;\">\n",
       "      <th></th>\n",
       "      <th>B1</th>\n",
       "      <th>B2</th>\n",
       "      <th>B3</th>\n",
       "      <th>B4</th>\n",
       "      <th>B5</th>\n",
       "      <th>B6</th>\n",
       "      <th>B7</th>\n",
       "      <th>B8</th>\n",
       "      <th>B9</th>\n",
       "      <th>B10</th>\n",
       "      <th>B11</th>\n",
       "      <th>B12</th>\n",
       "      <th>NDVI</th>\n",
       "      <th>BSI</th>\n",
       "      <th>EVI</th>\n",
       "      <th>AVI</th>\n",
       "      <th>SAVI</th>\n",
       "      <th>NDMI</th>\n",
       "      <th>SOC</th>\n",
       "    </tr>\n",
       "  </thead>\n",
       "  <tbody>\n",
       "    <tr>\n",
       "      <th>0</th>\n",
       "      <td>0.10868</td>\n",
       "      <td>0.1528</td>\n",
       "      <td>0.2256</td>\n",
       "      <td>0.3088</td>\n",
       "      <td>0.35811</td>\n",
       "      <td>0.41561</td>\n",
       "      <td>0.42981</td>\n",
       "      <td>0.4520</td>\n",
       "      <td>0.45821</td>\n",
       "      <td>0.46119</td>\n",
       "      <td>0.45868</td>\n",
       "      <td>0.33458</td>\n",
       "      <td>0.188223</td>\n",
       "      <td>0.118547</td>\n",
       "      <td>0.219678</td>\n",
       "      <td>0.355000</td>\n",
       "      <td>0.172013</td>\n",
       "      <td>-0.007335</td>\n",
       "      <td>0.71</td>\n",
       "    </tr>\n",
       "    <tr>\n",
       "      <th>1</th>\n",
       "      <td>0.08210</td>\n",
       "      <td>0.0976</td>\n",
       "      <td>0.1448</td>\n",
       "      <td>0.2022</td>\n",
       "      <td>0.22249</td>\n",
       "      <td>0.27356</td>\n",
       "      <td>0.30689</td>\n",
       "      <td>0.3032</td>\n",
       "      <td>0.31966</td>\n",
       "      <td>0.31623</td>\n",
       "      <td>0.38970</td>\n",
       "      <td>0.28525</td>\n",
       "      <td>0.199842</td>\n",
       "      <td>0.192505</td>\n",
       "      <td>0.176813</td>\n",
       "      <td>0.290167</td>\n",
       "      <td>0.154519</td>\n",
       "      <td>-0.124838</td>\n",
       "      <td>0.71</td>\n",
       "    </tr>\n",
       "    <tr>\n",
       "      <th>2</th>\n",
       "      <td>0.05894</td>\n",
       "      <td>0.0667</td>\n",
       "      <td>0.1020</td>\n",
       "      <td>0.1478</td>\n",
       "      <td>0.18461</td>\n",
       "      <td>0.21207</td>\n",
       "      <td>0.23339</td>\n",
       "      <td>0.2519</td>\n",
       "      <td>0.23059</td>\n",
       "      <td>0.24656</td>\n",
       "      <td>0.31123</td>\n",
       "      <td>0.21316</td>\n",
       "      <td>0.260445</td>\n",
       "      <td>0.180587</td>\n",
       "      <td>0.183816</td>\n",
       "      <td>0.281670</td>\n",
       "      <td>0.179600</td>\n",
       "      <td>-0.105358</td>\n",
       "      <td>0.71</td>\n",
       "    </tr>\n",
       "    <tr>\n",
       "      <th>3</th>\n",
       "      <td>0.08430</td>\n",
       "      <td>0.0960</td>\n",
       "      <td>0.1420</td>\n",
       "      <td>0.1828</td>\n",
       "      <td>0.21946</td>\n",
       "      <td>0.25593</td>\n",
       "      <td>0.25838</td>\n",
       "      <td>0.2684</td>\n",
       "      <td>0.27970</td>\n",
       "      <td>0.28263</td>\n",
       "      <td>0.39233</td>\n",
       "      <td>0.29595</td>\n",
       "      <td>0.189716</td>\n",
       "      <td>0.224293</td>\n",
       "      <td>0.149339</td>\n",
       "      <td>0.265784</td>\n",
       "      <td>0.139032</td>\n",
       "      <td>-0.187565</td>\n",
       "      <td>0.71</td>\n",
       "    </tr>\n",
       "    <tr>\n",
       "      <th>4</th>\n",
       "      <td>0.09937</td>\n",
       "      <td>0.1232</td>\n",
       "      <td>0.1914</td>\n",
       "      <td>0.2514</td>\n",
       "      <td>0.24672</td>\n",
       "      <td>0.34012</td>\n",
       "      <td>0.36762</td>\n",
       "      <td>0.3731</td>\n",
       "      <td>0.39629</td>\n",
       "      <td>0.38758</td>\n",
       "      <td>0.44180</td>\n",
       "      <td>0.31169</td>\n",
       "      <td>0.194876</td>\n",
       "      <td>0.165532</td>\n",
       "      <td>0.199075</td>\n",
       "      <td>0.323933</td>\n",
       "      <td>0.165119</td>\n",
       "      <td>-0.084305</td>\n",
       "      <td>0.71</td>\n",
       "    </tr>\n",
       "  </tbody>\n",
       "</table>\n",
       "</div>"
      ],
      "text/plain": [
       "        B1      B2      B3      B4       B5       B6       B7      B8  \\\n",
       "0  0.10868  0.1528  0.2256  0.3088  0.35811  0.41561  0.42981  0.4520   \n",
       "1  0.08210  0.0976  0.1448  0.2022  0.22249  0.27356  0.30689  0.3032   \n",
       "2  0.05894  0.0667  0.1020  0.1478  0.18461  0.21207  0.23339  0.2519   \n",
       "3  0.08430  0.0960  0.1420  0.1828  0.21946  0.25593  0.25838  0.2684   \n",
       "4  0.09937  0.1232  0.1914  0.2514  0.24672  0.34012  0.36762  0.3731   \n",
       "\n",
       "        B9      B10      B11      B12      NDVI       BSI       EVI       AVI  \\\n",
       "0  0.45821  0.46119  0.45868  0.33458  0.188223  0.118547  0.219678  0.355000   \n",
       "1  0.31966  0.31623  0.38970  0.28525  0.199842  0.192505  0.176813  0.290167   \n",
       "2  0.23059  0.24656  0.31123  0.21316  0.260445  0.180587  0.183816  0.281670   \n",
       "3  0.27970  0.28263  0.39233  0.29595  0.189716  0.224293  0.149339  0.265784   \n",
       "4  0.39629  0.38758  0.44180  0.31169  0.194876  0.165532  0.199075  0.323933   \n",
       "\n",
       "       SAVI      NDMI   SOC  \n",
       "0  0.172013 -0.007335  0.71  \n",
       "1  0.154519 -0.124838  0.71  \n",
       "2  0.179600 -0.105358  0.71  \n",
       "3  0.139032 -0.187565  0.71  \n",
       "4  0.165119 -0.084305  0.71  "
      ]
     },
     "execution_count": 28,
     "metadata": {},
     "output_type": "execute_result"
    }
   ],
   "source": [
    "df.head()"
   ]
  },
  {
   "cell_type": "code",
   "execution_count": 6,
   "id": "21553fa8",
   "metadata": {},
   "outputs": [],
   "source": [
    "from sklearn.cross_decomposition import PLSRegression\n",
    "from sklearn.model_selection import cross_val_score\n",
    "from sklearn.model_selection import GridSearchCV\n",
    "from sklearn.model_selection import train_test_split\n",
    "from sklearn.metrics import mean_squared_error"
   ]
  },
  {
   "cell_type": "code",
   "execution_count": 7,
   "id": "fdccccbf",
   "metadata": {},
   "outputs": [],
   "source": [
    "# # normalize1\n",
    "# # band 값만 10000으로 나누기\n",
    "# df['B2'] = df['B2']/10000\n",
    "# df['B3'] = df['B3']/10000\n",
    "# df['B4'] = df['B4']/10000\n",
    "# df['B5'] = df['B5']/10000\n",
    "# df['B6'] = df['B6']/10000\n",
    "# df['B7'] = df['B7']/10000\n",
    "# df['B8A'] = df['B8A']/10000\n",
    "# df['B11'] = df['B11']/10000\n",
    "# df['B12'] = df['B12']/10000\n",
    "# print(df)"
   ]
  },
  {
   "cell_type": "code",
   "execution_count": 8,
   "id": "9f8102f3",
   "metadata": {},
   "outputs": [
    {
     "name": "stdout",
     "output_type": "stream",
     "text": [
      "          B1      B2      B3      B4       B5       B6       B7      B8  \\\n",
      "0    0.10868  0.1528  0.2256  0.3088  0.35811  0.41561  0.42981  0.4520   \n",
      "1    0.08210  0.0976  0.1448  0.2022  0.22249  0.27356  0.30689  0.3032   \n",
      "2    0.05894  0.0667  0.1020  0.1478  0.18461  0.21207  0.23339  0.2519   \n",
      "3    0.08430  0.0960  0.1420  0.1828  0.21946  0.25593  0.25838  0.2684   \n",
      "4    0.09937  0.1232  0.1914  0.2514  0.24672  0.34012  0.36762  0.3731   \n",
      "..       ...     ...     ...     ...      ...      ...      ...     ...   \n",
      "317  0.09826  0.1064  0.1526  0.1886  0.22043  0.24424  0.25659  0.2654   \n",
      "318  0.09386  0.0866  0.1304  0.1842  0.20042  0.20899  0.22650  0.2578   \n",
      "319  0.09607  0.0836  0.1152  0.1560  0.15445  0.21179  0.21498  0.2445   \n",
      "320  0.07921  0.0598  0.0904  0.1182  0.12468  0.14167  0.15450  0.1451   \n",
      "321  0.11120  0.0872  0.1248  0.1546  0.20452  0.21384  0.21965  0.2487   \n",
      "\n",
      "          B9      B10      B11      B12      NDVI       BSI       EVI  \\\n",
      "0    0.45821  0.46119  0.45868  0.33458  0.188223  0.118547  0.219678   \n",
      "1    0.31966  0.31623  0.38970  0.28525  0.199842  0.192505  0.176813   \n",
      "2    0.23059  0.24656  0.31123  0.21316  0.260445  0.180587  0.183816   \n",
      "3    0.27970  0.28263  0.39233  0.29595  0.189716  0.224293  0.149339   \n",
      "4    0.39629  0.38758  0.44180  0.31169  0.194876  0.165532  0.199075   \n",
      "..       ...      ...      ...      ...       ...       ...       ...   \n",
      "317  0.26755  0.26788  0.32933  0.29230  0.169163  0.164241  0.145859   \n",
      "318  0.25145  0.25846  0.28093  0.21843  0.166516  0.149136  0.162797   \n",
      "319  0.23714  0.23246  0.24862  0.22415  0.220974  0.104433  0.164469   \n",
      "320  0.17208  0.16882  0.16812  0.14677  0.102165  0.165751  0.060661   \n",
      "321  0.25580  0.24408  0.29464  0.22976  0.233325  0.144356  0.171435   \n",
      "\n",
      "          AVI      SAVI      NDMI  \n",
      "0    0.355000  0.172013 -0.007335  \n",
      "1    0.290167  0.154519 -0.124838  \n",
      "2    0.281670  0.179600 -0.105358  \n",
      "3    0.265784  0.139032 -0.187565  \n",
      "4    0.323933  0.165119 -0.084305  \n",
      "..        ...       ...       ...  \n",
      "317  0.254780  0.124343 -0.107494  \n",
      "318  0.249219  0.120806 -0.042934  \n",
      "319  0.263343  0.152538 -0.008355  \n",
      "320  0.150984  0.055567 -0.073495  \n",
      "321  0.270464  0.161644 -0.084551  \n",
      "\n",
      "[322 rows x 18 columns]\n"
     ]
    }
   ],
   "source": [
    "x = df.iloc[:, :-1]\n",
    "print(x)"
   ]
  },
  {
   "cell_type": "code",
   "execution_count": 9,
   "id": "bef1cbae",
   "metadata": {},
   "outputs": [],
   "source": [
    "y = df.iloc[:, -1:]"
   ]
  },
  {
   "cell_type": "code",
   "execution_count": 10,
   "id": "5cf59f2f",
   "metadata": {},
   "outputs": [
    {
     "name": "stdout",
     "output_type": "stream",
     "text": [
      "      SOC\n",
      "0    0.71\n",
      "1    0.71\n",
      "2    0.71\n",
      "3    0.71\n",
      "4    0.71\n",
      "..    ...\n",
      "317  3.30\n",
      "318  2.51\n",
      "319  2.51\n",
      "320  2.51\n",
      "321  2.51\n",
      "\n",
      "[322 rows x 1 columns]\n"
     ]
    }
   ],
   "source": [
    "print(y)"
   ]
  },
  {
   "cell_type": "code",
   "execution_count": 11,
   "id": "3483d91b",
   "metadata": {},
   "outputs": [],
   "source": [
    "x_train, x_test, y_train, y_test = train_test_split(x.values, y.values, test_size=0.25, random_state=0)"
   ]
  },
  {
   "cell_type": "code",
   "execution_count": 12,
   "id": "677e8b9c",
   "metadata": {},
   "outputs": [],
   "source": [
    "### parameter 최적화\n",
    "#  test error가 최소가 되는 극소점을 주성분 개수로 정하는 게 좋습니다"
   ]
  },
  {
   "cell_type": "code",
   "execution_count": 46,
   "id": "d5f1ad49",
   "metadata": {},
   "outputs": [],
   "source": [
    "##########모델 생성\n",
    "\n",
    "model = PLSRegression(n_components = 2)"
   ]
  },
  {
   "cell_type": "code",
   "execution_count": 47,
   "id": "7684681f",
   "metadata": {},
   "outputs": [
    {
     "data": {
      "text/html": [
       "<style>#sk-container-id-9 {color: black;background-color: white;}#sk-container-id-9 pre{padding: 0;}#sk-container-id-9 div.sk-toggleable {background-color: white;}#sk-container-id-9 label.sk-toggleable__label {cursor: pointer;display: block;width: 100%;margin-bottom: 0;padding: 0.3em;box-sizing: border-box;text-align: center;}#sk-container-id-9 label.sk-toggleable__label-arrow:before {content: \"▸\";float: left;margin-right: 0.25em;color: #696969;}#sk-container-id-9 label.sk-toggleable__label-arrow:hover:before {color: black;}#sk-container-id-9 div.sk-estimator:hover label.sk-toggleable__label-arrow:before {color: black;}#sk-container-id-9 div.sk-toggleable__content {max-height: 0;max-width: 0;overflow: hidden;text-align: left;background-color: #f0f8ff;}#sk-container-id-9 div.sk-toggleable__content pre {margin: 0.2em;color: black;border-radius: 0.25em;background-color: #f0f8ff;}#sk-container-id-9 input.sk-toggleable__control:checked~div.sk-toggleable__content {max-height: 200px;max-width: 100%;overflow: auto;}#sk-container-id-9 input.sk-toggleable__control:checked~label.sk-toggleable__label-arrow:before {content: \"▾\";}#sk-container-id-9 div.sk-estimator input.sk-toggleable__control:checked~label.sk-toggleable__label {background-color: #d4ebff;}#sk-container-id-9 div.sk-label input.sk-toggleable__control:checked~label.sk-toggleable__label {background-color: #d4ebff;}#sk-container-id-9 input.sk-hidden--visually {border: 0;clip: rect(1px 1px 1px 1px);clip: rect(1px, 1px, 1px, 1px);height: 1px;margin: -1px;overflow: hidden;padding: 0;position: absolute;width: 1px;}#sk-container-id-9 div.sk-estimator {font-family: monospace;background-color: #f0f8ff;border: 1px dotted black;border-radius: 0.25em;box-sizing: border-box;margin-bottom: 0.5em;}#sk-container-id-9 div.sk-estimator:hover {background-color: #d4ebff;}#sk-container-id-9 div.sk-parallel-item::after {content: \"\";width: 100%;border-bottom: 1px solid gray;flex-grow: 1;}#sk-container-id-9 div.sk-label:hover label.sk-toggleable__label {background-color: #d4ebff;}#sk-container-id-9 div.sk-serial::before {content: \"\";position: absolute;border-left: 1px solid gray;box-sizing: border-box;top: 0;bottom: 0;left: 50%;z-index: 0;}#sk-container-id-9 div.sk-serial {display: flex;flex-direction: column;align-items: center;background-color: white;padding-right: 0.2em;padding-left: 0.2em;position: relative;}#sk-container-id-9 div.sk-item {position: relative;z-index: 1;}#sk-container-id-9 div.sk-parallel {display: flex;align-items: stretch;justify-content: center;background-color: white;position: relative;}#sk-container-id-9 div.sk-item::before, #sk-container-id-9 div.sk-parallel-item::before {content: \"\";position: absolute;border-left: 1px solid gray;box-sizing: border-box;top: 0;bottom: 0;left: 50%;z-index: -1;}#sk-container-id-9 div.sk-parallel-item {display: flex;flex-direction: column;z-index: 1;position: relative;background-color: white;}#sk-container-id-9 div.sk-parallel-item:first-child::after {align-self: flex-end;width: 50%;}#sk-container-id-9 div.sk-parallel-item:last-child::after {align-self: flex-start;width: 50%;}#sk-container-id-9 div.sk-parallel-item:only-child::after {width: 0;}#sk-container-id-9 div.sk-dashed-wrapped {border: 1px dashed gray;margin: 0 0.4em 0.5em 0.4em;box-sizing: border-box;padding-bottom: 0.4em;background-color: white;}#sk-container-id-9 div.sk-label label {font-family: monospace;font-weight: bold;display: inline-block;line-height: 1.2em;}#sk-container-id-9 div.sk-label-container {text-align: center;}#sk-container-id-9 div.sk-container {/* jupyter's `normalize.less` sets `[hidden] { display: none; }` but bootstrap.min.css set `[hidden] { display: none !important; }` so we also need the `!important` here to be able to override the default hidden behavior on the sphinx rendered scikit-learn.org. See: https://github.com/scikit-learn/scikit-learn/issues/21755 */display: inline-block !important;position: relative;}#sk-container-id-9 div.sk-text-repr-fallback {display: none;}</style><div id=\"sk-container-id-9\" class=\"sk-top-container\"><div class=\"sk-text-repr-fallback\"><pre>PLSRegression()</pre><b>In a Jupyter environment, please rerun this cell to show the HTML representation or trust the notebook. <br />On GitHub, the HTML representation is unable to render, please try loading this page with nbviewer.org.</b></div><div class=\"sk-container\" hidden><div class=\"sk-item\"><div class=\"sk-estimator sk-toggleable\"><input class=\"sk-toggleable__control sk-hidden--visually\" id=\"sk-estimator-id-9\" type=\"checkbox\" checked><label for=\"sk-estimator-id-9\" class=\"sk-toggleable__label sk-toggleable__label-arrow\">PLSRegression</label><div class=\"sk-toggleable__content\"><pre>PLSRegression()</pre></div></div></div></div></div>"
      ],
      "text/plain": [
       "PLSRegression()"
      ]
     },
     "execution_count": 47,
     "metadata": {},
     "output_type": "execute_result"
    }
   ],
   "source": [
    "##########모델 학습\n",
    "\n",
    "model.fit(x_train, y_train.ravel())"
   ]
  },
  {
   "cell_type": "code",
   "execution_count": 48,
   "id": "48456b11",
   "metadata": {},
   "outputs": [
    {
     "name": "stdout",
     "output_type": "stream",
     "text": [
      "0.13572446788096126\n",
      "-0.27713752709250117\n"
     ]
    }
   ],
   "source": [
    "##########모델 검증\n",
    "\n",
    "print(model.score(x_train, y_train)) #\n",
    "\n",
    "print(model.score(x_test, y_test)) #"
   ]
  },
  {
   "cell_type": "code",
   "execution_count": 23,
   "id": "61384f75",
   "metadata": {},
   "outputs": [
    {
     "data": {
      "text/plain": [
       "0.25345097067733524"
      ]
     },
     "execution_count": 23,
     "metadata": {},
     "output_type": "execute_result"
    }
   ],
   "source": [
    "# R-squared\n",
    "\n",
    "model.score(x.values,y.values)"
   ]
  },
  {
   "cell_type": "code",
   "execution_count": 24,
   "id": "911cb6ee",
   "metadata": {},
   "outputs": [
    {
     "name": "stdout",
     "output_type": "stream",
     "text": [
      "(322, 18)\n",
      "(322, 1)\n",
      "(322, 1)\n"
     ]
    }
   ],
   "source": [
    "print(x.values.shape)\n",
    "print(model.predict(x.values).shape)\n",
    "print(y.values.shape)"
   ]
  },
  {
   "cell_type": "code",
   "execution_count": 25,
   "id": "0bc6043f",
   "metadata": {},
   "outputs": [
    {
     "data": {
      "image/png": "[encoded data removed]",
      "text/plain": [
       "<Figure size 800x600 with 1 Axes>"
      ]
     },
     "metadata": {},
     "output_type": "display_data"
    }
   ],
   "source": [
    "# feature importance\n",
    "\n",
    "import matplotlib.pyplot as plt\n",
    "import seaborn as sns\n",
    "%matplotlib inline\n",
    "from sklearn.inspection import permutation_importance\n",
    "\n",
    "# perform permutation importance\n",
    "results = permutation_importance(model, x_train, y_train, scoring='neg_mean_squared_error')\n",
    "# get importance\n",
    "importance = results.importances_mean\n",
    "# sort feature importance\n",
    "ftr_top = {}\n",
    "# plot feature importance\n",
    "\n",
    "for i,v in enumerate(importance):\n",
    "    ftr_top[x.columns[i]] = v\n",
    "    \n",
    "\n",
    "\n",
    "ftr_top = pd.Series(dict(sorted(ftr_top.items(), key=lambda x: x[1], reverse=True)))\n",
    "\n",
    "# print(ftr_top)\n",
    "    \n",
    "plt.figure(figsize=(8, 6))\n",
    "sns.barplot(x=ftr_top, y=ftr_top.index)\n",
    "plt.show()\n"
   ]
  },
  {
   "cell_type": "code",
   "execution_count": 26,
   "id": "0c05d002",
   "metadata": {},
   "outputs": [
    {
     "data": {
      "image/png": "[encoded data removed]",
      "text/plain": [
       "<Figure size 640x480 with 1 Axes>"
      ]
     },
     "metadata": {},
     "output_type": "display_data"
    }
   ],
   "source": [
    "# Predicted versus observed SOC\n",
    "plt.style.use('seaborn-whitegrid')\n",
    "fig = plt.figure()\n",
    "X_grid = np.linspace(math.floor(min(model.predict(x.values))), math.ceil(max(model.predict(x.values))),10000)  # X의 최소값부터 X의 최대값까지 0.01 단위로 값 채우기\n",
    "#X_grid = X_grid.reshape((len(X_grid),1))  # n X 1 행렬로 변환\n",
    "plt.scatter(model.predict(x.values), y.values, color='red')\n",
    "plt.scatter(X_grid,X_grid, color='blue')\n",
    "plt.title('SOC (Partial Least Square Regression)')\n",
    "plt.xlabel('predicted SOC')\n",
    "plt.ylabel('observedSOC')\n",
    "plt.show()"
   ]
  },
  {
   "cell_type": "code",
   "execution_count": null,
   "id": "accd532d",
   "metadata": {},
   "outputs": [],
   "source": []
  }
 ],
 "metadata": {
  "kernelspec": {
   "display_name": "Python 3 (ipykernel)",
   "language": "python",
   "name": "python3"
  },
  "language_info": {
   "codemirror_mode": {
    "name": "ipython",
    "version": 3
   },
   "file_extension": ".py",
   "mimetype": "text/x-python",
   "name": "python",
   "nbconvert_exporter": "python",
   "pygments_lexer": "ipython3",
   "version": "3.8.13"
  }
 },
 "nbformat": 4,
 "nbformat_minor": 5
}
