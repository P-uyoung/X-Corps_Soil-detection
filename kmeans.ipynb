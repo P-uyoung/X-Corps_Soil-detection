{
 "cells": [
  {
   "cell_type": "markdown",
   "metadata": {},
   "source": [
    "This code is for seeking various soil, whose soil organic carbon (SOC) is diverse, in restricted location. <br/>\n",
    "\n",
    "- Dataset <br/>\n",
    "(1) Sentinel2_9Bands_Bare_0621.csv : for making a cluster model according to SOC <br/>\n",
    "(2) Sample_A.csv : (preliminary experiment data) for testing the cluster model <br/>\n",
    "\n",
    "- Process <br/>\n",
    "(1) Dimension-reduction : PCA <br/>\n",
    "(2) K-means Clustering"
   ]
  },
  {
   "cell_type": "markdown",
   "metadata": {},
   "source": [
    "### Upload Data"
   ]
  },
  {
   "cell_type": "code",
   "execution_count": 87,
   "metadata": {},
   "outputs": [],
   "source": [
    "import pandas as pd\n",
    "import numpy as np\n",
    "\n",
    "from sklearn.decomposition import PCA\n",
    "from sklearn.cluster import KMeans\n",
    "from sklearn.manifold import TSNE\n",
    "\n",
    "import matplotlib as mpl\n",
    "import matplotlib.pyplot as plt"
   ]
  },
  {
   "cell_type": "code",
   "execution_count": 88,
   "metadata": {},
   "outputs": [
    {
     "data": {
      "text/html": [
       "<div>\n",
       "<style scoped>\n",
       "    .dataframe tbody tr th:only-of-type {\n",
       "        vertical-align: middle;\n",
       "    }\n",
       "\n",
       "    .dataframe tbody tr th {\n",
       "        vertical-align: top;\n",
       "    }\n",
       "\n",
       "    .dataframe thead th {\n",
       "        text-align: right;\n",
       "    }\n",
       "</style>\n",
       "<table border=\"1\" class=\"dataframe\">\n",
       "  <thead>\n",
       "    <tr style=\"text-align: right;\">\n",
       "      <th></th>\n",
       "      <th>B03_Green_</th>\n",
       "      <th>B02_Blue_4</th>\n",
       "      <th>B12_SWIR_2</th>\n",
       "      <th>B11_SWIR_1</th>\n",
       "      <th>B8A_VRE_86</th>\n",
       "      <th>B07_VRE_78</th>\n",
       "      <th>B06_VRE_74</th>\n",
       "      <th>B05_VRE_75</th>\n",
       "      <th>B04_Red_66</th>\n",
       "    </tr>\n",
       "  </thead>\n",
       "  <tbody>\n",
       "    <tr>\n",
       "      <th>0</th>\n",
       "      <td>3347.0</td>\n",
       "      <td>2870.0</td>\n",
       "      <td>5451.0</td>\n",
       "      <td>6091.0</td>\n",
       "      <td>4945.0</td>\n",
       "      <td>4784.0</td>\n",
       "      <td>4556.0</td>\n",
       "      <td>4258.0</td>\n",
       "      <td>3807.0</td>\n",
       "    </tr>\n",
       "    <tr>\n",
       "      <th>1</th>\n",
       "      <td>3349.0</td>\n",
       "      <td>2889.0</td>\n",
       "      <td>5550.0</td>\n",
       "      <td>6164.0</td>\n",
       "      <td>4983.0</td>\n",
       "      <td>4817.0</td>\n",
       "      <td>4580.0</td>\n",
       "      <td>4281.0</td>\n",
       "      <td>3838.0</td>\n",
       "    </tr>\n",
       "    <tr>\n",
       "      <th>2</th>\n",
       "      <td>3362.0</td>\n",
       "      <td>2901.0</td>\n",
       "      <td>5523.0</td>\n",
       "      <td>6192.0</td>\n",
       "      <td>4961.0</td>\n",
       "      <td>4802.0</td>\n",
       "      <td>4567.0</td>\n",
       "      <td>4278.0</td>\n",
       "      <td>3851.0</td>\n",
       "    </tr>\n",
       "    <tr>\n",
       "      <th>3</th>\n",
       "      <td>3391.0</td>\n",
       "      <td>2877.0</td>\n",
       "      <td>5529.0</td>\n",
       "      <td>6233.0</td>\n",
       "      <td>5021.0</td>\n",
       "      <td>4853.0</td>\n",
       "      <td>4601.0</td>\n",
       "      <td>4322.0</td>\n",
       "      <td>3848.0</td>\n",
       "    </tr>\n",
       "    <tr>\n",
       "      <th>4</th>\n",
       "      <td>2576.0</td>\n",
       "      <td>2266.0</td>\n",
       "      <td>4759.0</td>\n",
       "      <td>5309.0</td>\n",
       "      <td>3849.0</td>\n",
       "      <td>3724.0</td>\n",
       "      <td>3475.0</td>\n",
       "      <td>3161.0</td>\n",
       "      <td>2913.0</td>\n",
       "    </tr>\n",
       "    <tr>\n",
       "      <th>...</th>\n",
       "      <td>...</td>\n",
       "      <td>...</td>\n",
       "      <td>...</td>\n",
       "      <td>...</td>\n",
       "      <td>...</td>\n",
       "      <td>...</td>\n",
       "      <td>...</td>\n",
       "      <td>...</td>\n",
       "      <td>...</td>\n",
       "    </tr>\n",
       "    <tr>\n",
       "      <th>401</th>\n",
       "      <td>3210.0</td>\n",
       "      <td>2744.0</td>\n",
       "      <td>4690.0</td>\n",
       "      <td>5732.0</td>\n",
       "      <td>5316.0</td>\n",
       "      <td>5205.0</td>\n",
       "      <td>4856.0</td>\n",
       "      <td>4143.0</td>\n",
       "      <td>3696.0</td>\n",
       "    </tr>\n",
       "    <tr>\n",
       "      <th>402</th>\n",
       "      <td>3153.0</td>\n",
       "      <td>2727.0</td>\n",
       "      <td>5104.0</td>\n",
       "      <td>6191.0</td>\n",
       "      <td>5043.0</td>\n",
       "      <td>4832.0</td>\n",
       "      <td>4571.0</td>\n",
       "      <td>4168.0</td>\n",
       "      <td>3592.0</td>\n",
       "    </tr>\n",
       "    <tr>\n",
       "      <th>403</th>\n",
       "      <td>2456.0</td>\n",
       "      <td>2194.0</td>\n",
       "      <td>4619.0</td>\n",
       "      <td>5030.0</td>\n",
       "      <td>3775.0</td>\n",
       "      <td>3592.0</td>\n",
       "      <td>3355.0</td>\n",
       "      <td>3049.0</td>\n",
       "      <td>2787.0</td>\n",
       "    </tr>\n",
       "    <tr>\n",
       "      <th>404</th>\n",
       "      <td>3281.0</td>\n",
       "      <td>2825.0</td>\n",
       "      <td>4784.0</td>\n",
       "      <td>5796.0</td>\n",
       "      <td>5489.0</td>\n",
       "      <td>5418.0</td>\n",
       "      <td>4951.0</td>\n",
       "      <td>4230.0</td>\n",
       "      <td>3749.0</td>\n",
       "    </tr>\n",
       "    <tr>\n",
       "      <th>405</th>\n",
       "      <td>2440.0</td>\n",
       "      <td>2167.0</td>\n",
       "      <td>4646.0</td>\n",
       "      <td>5028.0</td>\n",
       "      <td>3704.0</td>\n",
       "      <td>3635.0</td>\n",
       "      <td>3298.0</td>\n",
       "      <td>2991.0</td>\n",
       "      <td>2745.0</td>\n",
       "    </tr>\n",
       "  </tbody>\n",
       "</table>\n",
       "<p>406 rows × 9 columns</p>\n",
       "</div>"
      ],
      "text/plain": [
       "     B03_Green_  B02_Blue_4  B12_SWIR_2  B11_SWIR_1  B8A_VRE_86  B07_VRE_78  \\\n",
       "0        3347.0      2870.0      5451.0      6091.0      4945.0      4784.0   \n",
       "1        3349.0      2889.0      5550.0      6164.0      4983.0      4817.0   \n",
       "2        3362.0      2901.0      5523.0      6192.0      4961.0      4802.0   \n",
       "3        3391.0      2877.0      5529.0      6233.0      5021.0      4853.0   \n",
       "4        2576.0      2266.0      4759.0      5309.0      3849.0      3724.0   \n",
       "..          ...         ...         ...         ...         ...         ...   \n",
       "401      3210.0      2744.0      4690.0      5732.0      5316.0      5205.0   \n",
       "402      3153.0      2727.0      5104.0      6191.0      5043.0      4832.0   \n",
       "403      2456.0      2194.0      4619.0      5030.0      3775.0      3592.0   \n",
       "404      3281.0      2825.0      4784.0      5796.0      5489.0      5418.0   \n",
       "405      2440.0      2167.0      4646.0      5028.0      3704.0      3635.0   \n",
       "\n",
       "     B06_VRE_74  B05_VRE_75  B04_Red_66  \n",
       "0        4556.0      4258.0      3807.0  \n",
       "1        4580.0      4281.0      3838.0  \n",
       "2        4567.0      4278.0      3851.0  \n",
       "3        4601.0      4322.0      3848.0  \n",
       "4        3475.0      3161.0      2913.0  \n",
       "..          ...         ...         ...  \n",
       "401      4856.0      4143.0      3696.0  \n",
       "402      4571.0      4168.0      3592.0  \n",
       "403      3355.0      3049.0      2787.0  \n",
       "404      4951.0      4230.0      3749.0  \n",
       "405      3298.0      2991.0      2745.0  \n",
       "\n",
       "[406 rows x 9 columns]"
      ]
     },
     "execution_count": 88,
     "metadata": {},
     "output_type": "execute_result"
    }
   ],
   "source": [
    "X_origin = pd.read_csv(\"./Sentinel2_9Bands_Bare_0621.csv\")\n",
    "X = X_origin.iloc[:,2:]  # remove the first two columns\n",
    "X"
   ]
  },
  {
   "cell_type": "markdown",
   "metadata": {},
   "source": [
    "### Dimension Reduction: Try (1)PCA (2)k-sne"
   ]
  },
  {
   "cell_type": "markdown",
   "metadata": {},
   "source": [
    "PCA minimizes the loss of information of data <br/>\n",
    "K-sne is advantageous to visualize clustering"
   ]
  },
  {
   "cell_type": "markdown",
   "metadata": {},
   "source": [
    "#### (1) PCA"
   ]
  },
  {
   "cell_type": "code",
   "execution_count": 89,
   "metadata": {},
   "outputs": [
    {
     "data": {
      "text/plain": [
       "array([[-0.2839196 , -0.0997229 ],\n",
       "       [-0.21396869, -0.10634307],\n",
       "       [-0.25597263, -0.67223129],\n",
       "       [-0.32293447, -0.38601404],\n",
       "       [-0.39157184,  0.36958943],\n",
       "       [-0.38810714,  0.38258504],\n",
       "       [-0.38264989,  0.28459135],\n",
       "       [-0.37797935, -0.04968587],\n",
       "       [-0.33249573, -0.10684645]])"
      ]
     },
     "execution_count": 89,
     "metadata": {},
     "output_type": "execute_result"
    }
   ],
   "source": [
    "# 2-dimension PCA\n",
    "pca_2d = PCA(n_components=2)\n",
    "X_pca = pca.fit_transform(X)\n",
    "pca.components_.T"
   ]
  },
  {
   "cell_type": "code",
   "execution_count": 90,
   "metadata": {},
   "outputs": [
    {
     "data": {
      "text/plain": [
       "array([[-2.83919601e-01, -9.97228976e-02, -4.04540365e-01],\n",
       "       [-2.13968695e-01, -1.06343072e-01, -4.65815770e-01],\n",
       "       [-2.55972630e-01, -6.72231295e-01, -1.47636375e-01],\n",
       "       [-3.22934472e-01, -3.86014036e-01,  7.43007455e-01],\n",
       "       [-3.91571843e-01,  3.69589427e-01,  1.09711125e-01],\n",
       "       [-3.88107135e-01,  3.82585043e-01,  1.02975275e-01],\n",
       "       [-3.82649894e-01,  2.84591348e-01, -2.45296671e-04],\n",
       "       [-3.77979352e-01, -4.96858705e-02, -6.72735751e-02],\n",
       "       [-3.32495729e-01, -1.06846453e-01, -1.35425073e-01]])"
      ]
     },
     "execution_count": 90,
     "metadata": {},
     "output_type": "execute_result"
    }
   ],
   "source": [
    "# 3-dimension PCA\n",
    "pca_3d = PCA(n_components=3)\n",
    "X_pca_3d = pca_3d.fit_transform(X)\n",
    "pca_3d.components_.T"
   ]
  },
  {
   "cell_type": "code",
   "execution_count": null,
   "metadata": {},
   "outputs": [],
   "source": [
    "# 2-dimension PCA, 설명된 분산의 비율\n",
    "pca.explained_variance_ratio_"
   ]
  },
  {
   "cell_type": "code",
   "execution_count": null,
   "metadata": {},
   "outputs": [],
   "source": [
    "# 2-dimension PCA, Percentage of variance lost by 2-D projection\n",
    "1-sum(pca.explained_variance_ratio_)"
   ]
  },
  {
   "cell_type": "code",
   "execution_count": null,
   "metadata": {},
   "outputs": [],
   "source": [
    "# 2-D PCA plot\n",
    "plt.scatter(X_pca[:,0], X_pca[:,1])\n",
    "plt.show()"
   ]
  },
  {
   "cell_type": "code",
   "execution_count": null,
   "metadata": {},
   "outputs": [],
   "source": [
    "# 3-D PCA plot\n",
    "pca_3d = PCA(n_components=3)\n",
    "X_pca_3d = pca_3d.fit_transform(X)\n",
    "pca_3d.n_components_\n",
    "\n",
    "fig = plt.figure()\n",
    "ax = fig.gca(projection='3d')\n",
    "\n",
    "ax.scatter(X_pca_3d[:,0], X_pca_3d[:,1], X_pca_3d[:,2])"
   ]
  },
  {
   "cell_type": "markdown",
   "metadata": {},
   "source": [
    "#### (2) k-sne"
   ]
  },
  {
   "cell_type": "code",
   "execution_count": null,
   "metadata": {},
   "outputs": [],
   "source": [
    "# 3-D PCA\n",
    "tsne = TSNE(n_components=2, random_state=42)\n",
    "X_ksne = tsne.fit_transform(X)\n",
    "\n",
    "X_ksne"
   ]
  },
  {
   "cell_type": "code",
   "execution_count": null,
   "metadata": {},
   "outputs": [],
   "source": [
    "fig = plt.figure()\n",
    "ax = fig.gca(projection='3d')\n",
    "\n",
    "ax.scatter(X_ksne[:,0], X_ksne[:,1], X_ksne[:,2])"
   ]
  },
  {
   "cell_type": "code",
   "execution_count": null,
   "metadata": {},
   "outputs": [],
   "source": [
    "plt.scatter(X_ksne[:,0], X_ksne[:,1])"
   ]
  },
  {
   "cell_type": "markdown",
   "metadata": {},
   "source": [
    "Not nearly grouping. <br/>\n",
    "Therefore, we will use PCA for dimension reduction."
   ]
  },
  {
   "cell_type": "markdown",
   "metadata": {},
   "source": [
    "### K-means clustering"
   ]
  },
  {
   "cell_type": "code",
   "execution_count": null,
   "metadata": {},
   "outputs": [],
   "source": [
    "k=5"
   ]
  },
  {
   "cell_type": "markdown",
   "metadata": {},
   "source": [
    "#### 1) 2-D PCA"
   ]
  },
  {
   "cell_type": "code",
   "execution_count": null,
   "metadata": {},
   "outputs": [],
   "source": [
    "print(np.shape(X_pca))\n",
    "\n",
    "kmeans_2d = KMeans(n_clusters=k, random_state=42)\n",
    "y_pred_2d = kmeans_2d.fit_predict(X_pca)\n",
    "# y_pred_2d"
   ]
  },
  {
   "cell_type": "code",
   "execution_count": null,
   "metadata": {},
   "outputs": [],
   "source": [
    "def plot_data(X):\n",
    "    plt.plot(X[:, 0], X[:, 1], 'k.', markersize=2)\n",
    "\n",
    "def plot_centroids(centroids, weights=None, circle_color='w', cross_color='k'):\n",
    "    if weights is not None:\n",
    "        centroids = centroids[weights > weights.max() / 10]\n",
    "    plt.scatter(centroids[:, 0], centroids[:, 1],\n",
    "                marker='o', s=35, linewidths=8,\n",
    "                color=circle_color, zorder=10, alpha=0.9)\n",
    "    plt.scatter(centroids[:, 0], centroids[:, 1],\n",
    "                marker='x', s=2, linewidths=12, \n",
    "                color=cross_color, zorder=11, alpha=1)\n",
    "\n",
    "def plot_decision_boundaries(clusterer, X, resolution=1000, show_centroids=True,\n",
    "                             show_xlabels=True, show_ylabels=True):\n",
    "    mins = X.min(axis=0) - 0.1\n",
    "    maxs = X.max(axis=0) + 0.1\n",
    "    xx, yy = np.meshgrid(np.linspace(mins[0], maxs[0], resolution),\n",
    "                         np.linspace(mins[1], maxs[1], resolution))\n",
    "    Z = clusterer.predict(np.c_[xx.ravel(), yy.ravel()])\n",
    "    Z = Z.reshape(xx.shape)\n",
    "\n",
    "    plt.contourf(Z, extent=(mins[0], maxs[0], mins[1], maxs[1]),\n",
    "                cmap=\"Pastel2\")\n",
    "    plt.contour(Z, extent=(mins[0], maxs[0], mins[1], maxs[1]),\n",
    "                linewidths=1, colors='k')\n",
    "    plot_data(X)\n",
    "    if show_centroids:\n",
    "        plot_centroids(clusterer.cluster_centers_)\n",
    "\n",
    "    if show_xlabels:\n",
    "        plt.xlabel(\"$x_1$\", fontsize=14)\n",
    "    else:\n",
    "        plt.tick_params(labelbottom=False)\n",
    "    if show_ylabels:\n",
    "        plt.ylabel(\"$x_2$\", fontsize=14, rotation=0)\n",
    "    else:\n",
    "        plt.tick_params(labelleft=False)"
   ]
  },
  {
   "cell_type": "code",
   "execution_count": null,
   "metadata": {},
   "outputs": [],
   "source": [
    "plt.figure(figsize=(8, 4))\n",
    "plot_decision_boundaries(kmeans_2d, X_pca)\n",
    "# plt.savefig(\"voronoi_plot\")\n",
    "plt.show()"
   ]
  },
  {
   "cell_type": "code",
   "execution_count": null,
   "metadata": {},
   "outputs": [],
   "source": [
    "plt.scatter(X_pca[:,0], X_pca[:,1], c=y_pred_2d, cmap=\"jet\")\n",
    "\n",
    "# 하늘, 주황, 초록, 빨간, 짙은파랑"
   ]
  },
  {
   "cell_type": "markdown",
   "metadata": {},
   "source": [
    "Centroid(clustering index) add to last column."
   ]
  },
  {
   "cell_type": "code",
   "execution_count": null,
   "metadata": {},
   "outputs": [],
   "source": [
    "X_2d = pd.DataFrame(X_origin)\n",
    "X_2d['centroid'] = y_pred_2d\n",
    "X_2d"
   ]
  },
  {
   "cell_type": "markdown",
   "metadata": {},
   "source": [
    "#### 2) 3-D PCA"
   ]
  },
  {
   "cell_type": "code",
   "execution_count": null,
   "metadata": {},
   "outputs": [],
   "source": [
    "kmeans_3d = KMeans(n_clusters=k, random_state=42)\n",
    "y_pred_3d = kmeans_3d.fit_predict(X_pca_3d)\n",
    "# y_pred_3d"
   ]
  },
  {
   "cell_type": "code",
   "execution_count": null,
   "metadata": {},
   "outputs": [],
   "source": [
    "fig = plt.figure()\n",
    "ax = fig.gca(projection='3d')\n",
    "\n",
    "ax.scatter(X_pca_3d[:,0], X_pca_3d[:,1], X_pca_3d[:,2], c=y_pred_3d, cmap=\"jet\")"
   ]
  },
  {
   "cell_type": "markdown",
   "metadata": {},
   "source": [
    "Centroid(clustering index) add to last column."
   ]
  },
  {
   "cell_type": "code",
   "execution_count": null,
   "metadata": {},
   "outputs": [],
   "source": [
    "X_3d = pd.DataFrame(X_origin)\n",
    "X_3d['centroid'] = y_pred_3d\n",
    "X_3d"
   ]
  },
  {
   "cell_type": "markdown",
   "metadata": {},
   "source": [
    "### Test by preliminary data"
   ]
  },
  {
   "cell_type": "markdown",
   "metadata": {},
   "source": [
    "Upload test data"
   ]
  },
  {
   "cell_type": "code",
   "execution_count": null,
   "metadata": {},
   "outputs": [],
   "source": [
    "New = pd.read_csv(\"./Sample_A.csv\")\n",
    "New = New.iloc[:,1:]  # remove the first three columns\n",
    "\n",
    "test_X = New.iloc[:,2:-1]  # new data\n",
    "test_y = New.iloc[:,-1]    # y_label\n",
    "New"
   ]
  },
  {
   "cell_type": "markdown",
   "metadata": {},
   "source": [
    "#### 1) 2-D PCA"
   ]
  },
  {
   "cell_type": "code",
   "execution_count": null,
   "metadata": {},
   "outputs": [],
   "source": [
    "# 2-D PCA\n",
    "test_X_pca = pca.transform(test_X)  # Apply dimensionality reduction to the new data\n",
    "test_X_pca"
   ]
  },
  {
   "cell_type": "code",
   "execution_count": null,
   "metadata": {},
   "outputs": [],
   "source": [
    "test_y_pred_2d = kmeans_2d.fit_predict(test_X_pca)\n",
    "test_y_pred_2d"
   ]
  },
  {
   "cell_type": "markdown",
   "metadata": {},
   "source": [
    "#### 2) 3-D PCA"
   ]
  },
  {
   "cell_type": "code",
   "execution_count": null,
   "metadata": {},
   "outputs": [],
   "source": [
    "# 3-D PCA\n",
    "test_X_pca_3d = pca_3d.transform(test_X)  # Apply dimensionality reduction to the new data\n",
    "test_X_pca_3d"
   ]
  },
  {
   "cell_type": "code",
   "execution_count": null,
   "metadata": {},
   "outputs": [],
   "source": [
    "test_y_pred_3d = kmeans_3d.fit_predict(test_X_pca_3d)\n",
    "test_y_pred_3d"
   ]
  },
  {
   "cell_type": "markdown",
   "metadata": {},
   "source": [
    "### Try other case"
   ]
  },
  {
   "cell_type": "markdown",
   "metadata": {},
   "source": [
    "PCA, K-means clustering"
   ]
  },
  {
   "cell_type": "code",
   "execution_count": null,
   "metadata": {},
   "outputs": [],
   "source": [
    "num_components = 0.999\n",
    "\n",
    "pca = PCA(n_components=num_components)\n",
    "X_pca = pca.fit_transform(X)\n",
    "pca.n_components_, np.shape(X_pca)"
   ]
  },
  {
   "cell_type": "code",
   "execution_count": null,
   "metadata": {},
   "outputs": [],
   "source": [
    "k=5\n",
    "\n",
    "kmeans = KMeans(n_clusters=k, random_state=42)\n",
    "y_pred = kmeans.fit_predict(X_pca)\n",
    "# y_pred"
   ]
  },
  {
   "cell_type": "code",
   "execution_count": null,
   "metadata": {},
   "outputs": [],
   "source": [
    "tsne = TSNE(n_components=2, random_state=42)\n",
    "X_ksne = tsne.fit_transform(X_pca, y_pred)\n",
    "\n",
    "\n"
   ]
  },
  {
   "cell_type": "code",
   "execution_count": null,
   "metadata": {},
   "outputs": [],
   "source": [
    "for i in range(8):\n",
    "    plt.scatter(X_ksne[:,0], X_ksne[:,1], c=y_pred, cmap=\"jet\")\n",
    "    plt.scatter(test_X_tsne[i,0]/8,test_X_tsne[i,1]/8, c='red', marker='x')\n",
    "    plt.show()"
   ]
  },
  {
   "cell_type": "code",
   "execution_count": null,
   "metadata": {},
   "outputs": [],
   "source": [
    "y_pred"
   ]
  },
  {
   "cell_type": "code",
   "execution_count": null,
   "metadata": {},
   "outputs": [],
   "source": []
  },
  {
   "cell_type": "code",
   "execution_count": null,
   "metadata": {},
   "outputs": [],
   "source": [
    "test_X_tsne = tsne.fit_transform(test_X, test_y_pred)  # Apply dimensionality reduction to the new data\n",
    "test_X_tsne"
   ]
  },
  {
   "cell_type": "code",
   "execution_count": null,
   "metadata": {},
   "outputs": [],
   "source": [
    "test_y_tsne=tsne.transform(test_X_pca)\n",
    "test_X_pca.shape, test_y_tsne.shape"
   ]
  },
  {
   "cell_type": "markdown",
   "metadata": {},
   "source": [
    "Apply new\n"
   ]
  },
  {
   "cell_type": "code",
   "execution_count": null,
   "metadata": {},
   "outputs": [],
   "source": [
    "test_X_pca = pca.transform(test_X) \n",
    "test_X_pca"
   ]
  },
  {
   "cell_type": "code",
   "execution_count": null,
   "metadata": {},
   "outputs": [],
   "source": [
    "test_y_pred = kmeans.fit_predict(test_X_pca)\n",
    "test_y_pred"
   ]
  },
  {
   "cell_type": "code",
   "execution_count": null,
   "metadata": {},
   "outputs": [],
   "source": []
  }
 ],
 "metadata": {
  "kernelspec": {
   "display_name": "Python 3.9.12 ('base')",
   "language": "python",
   "name": "python3"
  },
  "language_info": {
   "codemirror_mode": {
    "name": "ipython",
    "version": 3
   },
   "file_extension": ".py",
   "mimetype": "text/x-python",
   "name": "python",
   "nbconvert_exporter": "python",
   "pygments_lexer": "ipython3",
   "version": "3.9.12"
  },
  "orig_nbformat": 4,
  "vscode": {
   "interpreter": {
    "hash": "f868bc790dca739d073b10431ad5126e3fd23eb19d74b3b7092bd7e9b5146c08"
   }
  }
 },
 "nbformat": 4,
 "nbformat_minor": 2
}
