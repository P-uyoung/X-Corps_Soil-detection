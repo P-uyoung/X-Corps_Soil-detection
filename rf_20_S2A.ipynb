{
 "cells": [
  {
   "cell_type": "code",
   "execution_count": 36,
   "id": "4f7327d1",
   "metadata": {},
   "outputs": [],
   "source": [
    "# random forest regressor on 20m resolution images\n",
    "\n",
    "import numpy as np\n",
    "import pandas as pd\n",
    "import sklearn\n",
    "import math"
   ]
  },
  {
   "cell_type": "code",
   "execution_count": 15,
   "id": "34200198",
   "metadata": {},
   "outputs": [],
   "source": [
    "df = pd.read_csv(r\"./dataset-Icheon&CHL/2000_20m_final_20221104.csv\", low_memory = False)"
   ]
  },
  {
   "cell_type": "code",
   "execution_count": 31,
   "id": "709308c6",
   "metadata": {},
   "outputs": [
    {
     "name": "stdout",
     "output_type": "stream",
     "text": [
      "<class 'pandas.core.frame.DataFrame'>\n",
      "RangeIndex: 262 entries, 0 to 261\n",
      "Data columns (total 21 columns):\n",
      " #   Column         Non-Null Count  Dtype  \n",
      "---  ------         --------------  -----  \n",
      " 0   id             262 non-null    int64  \n",
      " 1   xcoord(long)   262 non-null    float64\n",
      " 2   ycoord(lat)    262 non-null    float64\n",
      " 3   sampling date  262 non-null    object \n",
      " 4   sensing date   262 non-null    object \n",
      " 5   B2             262 non-null    int64  \n",
      " 6   B3             262 non-null    int64  \n",
      " 7   B4             262 non-null    int64  \n",
      " 8   B5             262 non-null    int64  \n",
      " 9   B6             262 non-null    int64  \n",
      " 10  B7             262 non-null    int64  \n",
      " 11  B8A            262 non-null    int64  \n",
      " 12  B11            262 non-null    int64  \n",
      " 13  B12            262 non-null    int64  \n",
      " 14  NDVI           262 non-null    float64\n",
      " 15  BSI            262 non-null    float64\n",
      " 16  EVI            262 non-null    float64\n",
      " 17  Sand (%)       21 non-null     float64\n",
      " 18  Silt (%)       21 non-null     float64\n",
      " 19  Clay (%)       21 non-null     float64\n",
      " 20  SOC            262 non-null    float64\n",
      "dtypes: float64(9), int64(10), object(2)\n",
      "memory usage: 43.1+ KB\n"
     ]
    }
   ],
   "source": [
    "df.info()"
   ]
  },
  {
   "cell_type": "code",
   "execution_count": 32,
   "id": "6ce98761",
   "metadata": {},
   "outputs": [],
   "source": [
    "df = pd.DataFrame(df[['B2','B3','B4','B5','B6','B7','B8A','B11','B12','NDVI','BSI','SOC']])"
   ]
  },
  {
   "cell_type": "code",
   "execution_count": 35,
   "id": "722dfb98",
   "metadata": {},
   "outputs": [
    {
     "data": {
      "text/html": [
       "<div>\n",
       "<style scoped>\n",
       "    .dataframe tbody tr th:only-of-type {\n",
       "        vertical-align: middle;\n",
       "    }\n",
       "\n",
       "    .dataframe tbody tr th {\n",
       "        vertical-align: top;\n",
       "    }\n",
       "\n",
       "    .dataframe thead th {\n",
       "        text-align: right;\n",
       "    }\n",
       "</style>\n",
       "<table border=\"1\" class=\"dataframe\">\n",
       "  <thead>\n",
       "    <tr style=\"text-align: right;\">\n",
       "      <th></th>\n",
       "      <th>B2</th>\n",
       "      <th>B3</th>\n",
       "      <th>B4</th>\n",
       "      <th>B5</th>\n",
       "      <th>B6</th>\n",
       "      <th>B7</th>\n",
       "      <th>B8A</th>\n",
       "      <th>B11</th>\n",
       "      <th>B12</th>\n",
       "      <th>NDVI</th>\n",
       "      <th>BSI</th>\n",
       "      <th>SOC</th>\n",
       "    </tr>\n",
       "  </thead>\n",
       "  <tbody>\n",
       "    <tr>\n",
       "      <th>0</th>\n",
       "      <td>3075</td>\n",
       "      <td>3914</td>\n",
       "      <td>4958</td>\n",
       "      <td>5340</td>\n",
       "      <td>5515</td>\n",
       "      <td>5755</td>\n",
       "      <td>5967</td>\n",
       "      <td>6441</td>\n",
       "      <td>4969</td>\n",
       "      <td>0.092357</td>\n",
       "      <td>0.115307</td>\n",
       "      <td>0.86</td>\n",
       "    </tr>\n",
       "    <tr>\n",
       "      <th>1</th>\n",
       "      <td>2955</td>\n",
       "      <td>3741</td>\n",
       "      <td>4904</td>\n",
       "      <td>5519</td>\n",
       "      <td>5619</td>\n",
       "      <td>5813</td>\n",
       "      <td>5986</td>\n",
       "      <td>6298</td>\n",
       "      <td>4692</td>\n",
       "      <td>0.099357</td>\n",
       "      <td>0.112247</td>\n",
       "      <td>0.87</td>\n",
       "    </tr>\n",
       "    <tr>\n",
       "      <th>2</th>\n",
       "      <td>2907</td>\n",
       "      <td>3692</td>\n",
       "      <td>4737</td>\n",
       "      <td>5347</td>\n",
       "      <td>5423</td>\n",
       "      <td>5666</td>\n",
       "      <td>5909</td>\n",
       "      <td>6465</td>\n",
       "      <td>4969</td>\n",
       "      <td>0.110088</td>\n",
       "      <td>0.119193</td>\n",
       "      <td>1.00</td>\n",
       "    </tr>\n",
       "    <tr>\n",
       "      <th>3</th>\n",
       "      <td>2753</td>\n",
       "      <td>3298</td>\n",
       "      <td>3778</td>\n",
       "      <td>3928</td>\n",
       "      <td>4175</td>\n",
       "      <td>4433</td>\n",
       "      <td>4638</td>\n",
       "      <td>5442</td>\n",
       "      <td>4830</td>\n",
       "      <td>0.102186</td>\n",
       "      <td>0.110108</td>\n",
       "      <td>0.84</td>\n",
       "    </tr>\n",
       "    <tr>\n",
       "      <th>4</th>\n",
       "      <td>3080</td>\n",
       "      <td>3774</td>\n",
       "      <td>4587</td>\n",
       "      <td>4769</td>\n",
       "      <td>5372</td>\n",
       "      <td>5739</td>\n",
       "      <td>5826</td>\n",
       "      <td>6558</td>\n",
       "      <td>5134</td>\n",
       "      <td>0.118986</td>\n",
       "      <td>0.111665</td>\n",
       "      <td>1.07</td>\n",
       "    </tr>\n",
       "  </tbody>\n",
       "</table>\n",
       "</div>"
      ],
      "text/plain": [
       "     B2    B3    B4    B5    B6    B7   B8A   B11   B12      NDVI       BSI  \\\n",
       "0  3075  3914  4958  5340  5515  5755  5967  6441  4969  0.092357  0.115307   \n",
       "1  2955  3741  4904  5519  5619  5813  5986  6298  4692  0.099357  0.112247   \n",
       "2  2907  3692  4737  5347  5423  5666  5909  6465  4969  0.110088  0.119193   \n",
       "3  2753  3298  3778  3928  4175  4433  4638  5442  4830  0.102186  0.110108   \n",
       "4  3080  3774  4587  4769  5372  5739  5826  6558  5134  0.118986  0.111665   \n",
       "\n",
       "    SOC  \n",
       "0  0.86  \n",
       "1  0.87  \n",
       "2  1.00  \n",
       "3  0.84  \n",
       "4  1.07  "
      ]
     },
     "execution_count": 35,
     "metadata": {},
     "output_type": "execute_result"
    }
   ],
   "source": [
    "df.head()"
   ]
  },
  {
   "cell_type": "code",
   "execution_count": 37,
   "id": "21553fa8",
   "metadata": {},
   "outputs": [],
   "source": [
    "from sklearn.ensemble import RandomForestRegressor\n",
    "from sklearn.model_selection import cross_val_score\n",
    "from sklearn.model_selection import GridSearchCV\n",
    "from sklearn.model_selection import train_test_split\n",
    "from sklearn.metrics import mean_squared_error"
   ]
  },
  {
   "cell_type": "code",
   "execution_count": 115,
   "id": "9f8102f3",
   "metadata": {},
   "outputs": [
    {
     "name": "stdout",
     "output_type": "stream",
     "text": [
      "       B2    B3    B4    B5    B6    B7   B8A   B11   B12      NDVI       BSI\n",
      "0    3075  3914  4958  5340  5515  5755  5967  6441  4969  0.092357  0.115307\n",
      "1    2955  3741  4904  5519  5619  5813  5986  6298  4692  0.099357  0.112247\n",
      "2    2907  3692  4737  5347  5423  5666  5909  6465  4969  0.110088  0.119193\n",
      "3    2753  3298  3778  3928  4175  4433  4638  5442  4830  0.102186  0.110108\n",
      "4    3080  3774  4587  4769  5372  5739  5826  6558  5134  0.118986  0.111665\n",
      "..    ...   ...   ...   ...   ...   ...   ...   ...   ...       ...       ...\n",
      "257  2054  2484  2878  3196  3347  3505  3578  4304  3870  0.108426  0.120961\n",
      "258  2032  2418  2791  3165  3318  3446  3585  4250  3802  0.124529  0.112498\n",
      "259  2006  2417  2814  3137  3297  3434  3573  4304  3876  0.118835  0.121210\n",
      "260  2027  2407  2756  3122  3377  3449  3649  4283  3924  0.139422  0.107196\n",
      "261  2043  2483  2853  3178  3425  3555  3656  4255  3901  0.123368  0.110018\n",
      "\n",
      "[262 rows x 11 columns]\n"
     ]
    }
   ],
   "source": [
    "x = df.iloc[:, :-1]\n",
    "print(x)"
   ]
  },
  {
   "cell_type": "code",
   "execution_count": 63,
   "id": "16e611b2",
   "metadata": {},
   "outputs": [],
   "source": [
    "# normalize1\n",
    "from sklearn.preprocessing import minmax_scale"
   ]
  },
  {
   "cell_type": "code",
   "execution_count": 95,
   "id": "fc05aca1",
   "metadata": {},
   "outputs": [
    {
     "name": "stdout",
     "output_type": "stream",
     "text": [
      "[[0.43314217 0.56535478 0.7403821  ... 0.5377808  0.39912149 0.16519657]\n",
      " [0.39692122 0.51565642 0.72624967 ... 0.47492625 0.44372676 0.13181144]\n",
      " [0.38243284 0.50158001 0.68254384 ... 0.5377808  0.51210497 0.20758486]\n",
      " ...\n",
      " [0.11047389 0.13530595 0.17927244 ... 0.28976628 0.56783959 0.22959048]\n",
      " [0.11681256 0.13243321 0.16409317 ... 0.30065804 0.69902062 0.07670262]\n",
      " [0.12164202 0.15426602 0.18947919 ... 0.29543907 0.59672062 0.10748783]]\n"
     ]
    }
   ],
   "source": [
    "X_MinMax_scaled = minmax_scale(x, axis=0, copy=True)\n",
    "print(X_MinMax_scaled)"
   ]
  },
  {
   "cell_type": "code",
   "execution_count": 178,
   "id": "fdccccbf",
   "metadata": {},
   "outputs": [
    {
     "name": "stdout",
     "output_type": "stream",
     "text": [
      "           B2      B3      B4      B5      B6      B7     B8A     B11     B12  \\\n",
      "0    0.000031  0.3914  0.4958  0.5340  0.5515  0.5755  0.5967  0.6441  0.4969   \n",
      "1    0.000030  0.3741  0.4904  0.5519  0.5619  0.5813  0.5986  0.6298  0.4692   \n",
      "2    0.000029  0.3692  0.4737  0.5347  0.5423  0.5666  0.5909  0.6465  0.4969   \n",
      "3    0.000028  0.3298  0.3778  0.3928  0.4175  0.4433  0.4638  0.5442  0.4830   \n",
      "4    0.000031  0.3774  0.4587  0.4769  0.5372  0.5739  0.5826  0.6558  0.5134   \n",
      "..        ...     ...     ...     ...     ...     ...     ...     ...     ...   \n",
      "257  0.000021  0.2484  0.2878  0.3196  0.3347  0.3505  0.3578  0.4304  0.3870   \n",
      "258  0.000020  0.2418  0.2791  0.3165  0.3318  0.3446  0.3585  0.4250  0.3802   \n",
      "259  0.000020  0.2417  0.2814  0.3137  0.3297  0.3434  0.3573  0.4304  0.3876   \n",
      "260  0.000020  0.2407  0.2756  0.3122  0.3377  0.3449  0.3649  0.4283  0.3924   \n",
      "261  0.000020  0.2483  0.2853  0.3178  0.3425  0.3555  0.3656  0.4255  0.3901   \n",
      "\n",
      "         NDVI       BSI   SOC  \n",
      "0    0.092357  0.115307  0.86  \n",
      "1    0.099357  0.112247  0.87  \n",
      "2    0.110088  0.119193  1.00  \n",
      "3    0.102186  0.110108  0.84  \n",
      "4    0.118986  0.111665  1.07  \n",
      "..        ...       ...   ...  \n",
      "257  0.108426  0.120961  2.61  \n",
      "258  0.124529  0.112498  2.37  \n",
      "259  0.118835  0.121210  3.68  \n",
      "260  0.139422  0.107196  3.22  \n",
      "261  0.123368  0.110018  3.30  \n",
      "\n",
      "[262 rows x 12 columns]\n"
     ]
    }
   ],
   "source": [
    "# normalize2\n",
    "# band 값만 10000으로 나누기\n",
    "df['B2'] = df['B2']/10000\n",
    "df['B3'] = df['B3']/10000\n",
    "df['B4'] = df['B4']/10000\n",
    "df['B5'] = df['B5']/10000\n",
    "df['B6'] = df['B6']/10000\n",
    "df['B7'] = df['B7']/10000\n",
    "df['B8A'] = df['B8A']/10000\n",
    "df['B11'] = df['B11']/10000\n",
    "df['B12'] = df['B12']/10000\n",
    "print(df)"
   ]
  },
  {
   "cell_type": "code",
   "execution_count": 179,
   "id": "bef1cbae",
   "metadata": {},
   "outputs": [],
   "source": [
    "y = df.iloc[:, -1:]"
   ]
  },
  {
   "cell_type": "code",
   "execution_count": 180,
   "id": "5cf59f2f",
   "metadata": {},
   "outputs": [
    {
     "name": "stdout",
     "output_type": "stream",
     "text": [
      "      SOC\n",
      "0    0.86\n",
      "1    0.87\n",
      "2    1.00\n",
      "3    0.84\n",
      "4    1.07\n",
      "..    ...\n",
      "257  2.61\n",
      "258  2.37\n",
      "259  3.68\n",
      "260  3.22\n",
      "261  3.30\n",
      "\n",
      "[262 rows x 1 columns]\n"
     ]
    }
   ],
   "source": [
    "print(y)"
   ]
  },
  {
   "cell_type": "code",
   "execution_count": 181,
   "id": "3483d91b",
   "metadata": {},
   "outputs": [],
   "source": [
    "x_train, x_test, y_train, y_test = train_test_split(x.values, y.values, test_size=0.25, random_state=0)"
   ]
  },
  {
   "cell_type": "code",
   "execution_count": 182,
   "id": "d5f1ad49",
   "metadata": {},
   "outputs": [],
   "source": [
    "##########모델 생성\n",
    "\n",
    "model = RandomForestRegressor()"
   ]
  },
  {
   "cell_type": "code",
   "execution_count": 183,
   "id": "677e8b9c",
   "metadata": {},
   "outputs": [],
   "source": [
    "### Tree 최적화\n"
   ]
  },
  {
   "cell_type": "code",
   "execution_count": 184,
   "id": "7684681f",
   "metadata": {},
   "outputs": [
    {
     "data": {
      "text/html": [
       "<style>#sk-container-id-17 {color: black;background-color: white;}#sk-container-id-17 pre{padding: 0;}#sk-container-id-17 div.sk-toggleable {background-color: white;}#sk-container-id-17 label.sk-toggleable__label {cursor: pointer;display: block;width: 100%;margin-bottom: 0;padding: 0.3em;box-sizing: border-box;text-align: center;}#sk-container-id-17 label.sk-toggleable__label-arrow:before {content: \"▸\";float: left;margin-right: 0.25em;color: #696969;}#sk-container-id-17 label.sk-toggleable__label-arrow:hover:before {color: black;}#sk-container-id-17 div.sk-estimator:hover label.sk-toggleable__label-arrow:before {color: black;}#sk-container-id-17 div.sk-toggleable__content {max-height: 0;max-width: 0;overflow: hidden;text-align: left;background-color: #f0f8ff;}#sk-container-id-17 div.sk-toggleable__content pre {margin: 0.2em;color: black;border-radius: 0.25em;background-color: #f0f8ff;}#sk-container-id-17 input.sk-toggleable__control:checked~div.sk-toggleable__content {max-height: 200px;max-width: 100%;overflow: auto;}#sk-container-id-17 input.sk-toggleable__control:checked~label.sk-toggleable__label-arrow:before {content: \"▾\";}#sk-container-id-17 div.sk-estimator input.sk-toggleable__control:checked~label.sk-toggleable__label {background-color: #d4ebff;}#sk-container-id-17 div.sk-label input.sk-toggleable__control:checked~label.sk-toggleable__label {background-color: #d4ebff;}#sk-container-id-17 input.sk-hidden--visually {border: 0;clip: rect(1px 1px 1px 1px);clip: rect(1px, 1px, 1px, 1px);height: 1px;margin: -1px;overflow: hidden;padding: 0;position: absolute;width: 1px;}#sk-container-id-17 div.sk-estimator {font-family: monospace;background-color: #f0f8ff;border: 1px dotted black;border-radius: 0.25em;box-sizing: border-box;margin-bottom: 0.5em;}#sk-container-id-17 div.sk-estimator:hover {background-color: #d4ebff;}#sk-container-id-17 div.sk-parallel-item::after {content: \"\";width: 100%;border-bottom: 1px solid gray;flex-grow: 1;}#sk-container-id-17 div.sk-label:hover label.sk-toggleable__label {background-color: #d4ebff;}#sk-container-id-17 div.sk-serial::before {content: \"\";position: absolute;border-left: 1px solid gray;box-sizing: border-box;top: 0;bottom: 0;left: 50%;z-index: 0;}#sk-container-id-17 div.sk-serial {display: flex;flex-direction: column;align-items: center;background-color: white;padding-right: 0.2em;padding-left: 0.2em;position: relative;}#sk-container-id-17 div.sk-item {position: relative;z-index: 1;}#sk-container-id-17 div.sk-parallel {display: flex;align-items: stretch;justify-content: center;background-color: white;position: relative;}#sk-container-id-17 div.sk-item::before, #sk-container-id-17 div.sk-parallel-item::before {content: \"\";position: absolute;border-left: 1px solid gray;box-sizing: border-box;top: 0;bottom: 0;left: 50%;z-index: -1;}#sk-container-id-17 div.sk-parallel-item {display: flex;flex-direction: column;z-index: 1;position: relative;background-color: white;}#sk-container-id-17 div.sk-parallel-item:first-child::after {align-self: flex-end;width: 50%;}#sk-container-id-17 div.sk-parallel-item:last-child::after {align-self: flex-start;width: 50%;}#sk-container-id-17 div.sk-parallel-item:only-child::after {width: 0;}#sk-container-id-17 div.sk-dashed-wrapped {border: 1px dashed gray;margin: 0 0.4em 0.5em 0.4em;box-sizing: border-box;padding-bottom: 0.4em;background-color: white;}#sk-container-id-17 div.sk-label label {font-family: monospace;font-weight: bold;display: inline-block;line-height: 1.2em;}#sk-container-id-17 div.sk-label-container {text-align: center;}#sk-container-id-17 div.sk-container {/* jupyter's `normalize.less` sets `[hidden] { display: none; }` but bootstrap.min.css set `[hidden] { display: none !important; }` so we also need the `!important` here to be able to override the default hidden behavior on the sphinx rendered scikit-learn.org. See: https://github.com/scikit-learn/scikit-learn/issues/21755 */display: inline-block !important;position: relative;}#sk-container-id-17 div.sk-text-repr-fallback {display: none;}</style><div id=\"sk-container-id-17\" class=\"sk-top-container\"><div class=\"sk-text-repr-fallback\"><pre>RandomForestRegressor()</pre><b>In a Jupyter environment, please rerun this cell to show the HTML representation or trust the notebook. <br />On GitHub, the HTML representation is unable to render, please try loading this page with nbviewer.org.</b></div><div class=\"sk-container\" hidden><div class=\"sk-item\"><div class=\"sk-estimator sk-toggleable\"><input class=\"sk-toggleable__control sk-hidden--visually\" id=\"sk-estimator-id-17\" type=\"checkbox\" checked><label for=\"sk-estimator-id-17\" class=\"sk-toggleable__label sk-toggleable__label-arrow\">RandomForestRegressor</label><div class=\"sk-toggleable__content\"><pre>RandomForestRegressor()</pre></div></div></div></div></div>"
      ],
      "text/plain": [
       "RandomForestRegressor()"
      ]
     },
     "execution_count": 184,
     "metadata": {},
     "output_type": "execute_result"
    }
   ],
   "source": [
    "##########모델 학습\n",
    "\n",
    "model.fit(x_train, y_train.ravel())"
   ]
  },
  {
   "cell_type": "code",
   "execution_count": 185,
   "id": "48456b11",
   "metadata": {},
   "outputs": [
    {
     "name": "stdout",
     "output_type": "stream",
     "text": [
      "0.9305249318117434\n",
      "0.5211322321241567\n"
     ]
    }
   ],
   "source": [
    "##########모델 검증\n",
    "\n",
    "print(model.score(x_train, y_train)) #\n",
    "\n",
    "print(model.score(x_test, y_test)) #"
   ]
  },
  {
   "cell_type": "code",
   "execution_count": 186,
   "id": "61384f75",
   "metadata": {},
   "outputs": [
    {
     "data": {
      "text/plain": [
       "0.8154360179424227"
      ]
     },
     "execution_count": 186,
     "metadata": {},
     "output_type": "execute_result"
    }
   ],
   "source": [
    "# R-squared\n",
    "\n",
    "model.score(x.values,y.values)"
   ]
  },
  {
   "cell_type": "code",
   "execution_count": 187,
   "id": "911cb6ee",
   "metadata": {},
   "outputs": [
    {
     "name": "stdout",
     "output_type": "stream",
     "text": [
      "(262, 11)\n",
      "(262,)\n",
      "(262, 1)\n"
     ]
    }
   ],
   "source": [
    "print(x.values.shape)\n",
    "print(model.predict(x.values).shape)\n",
    "print(y.values.shape)"
   ]
  },
  {
   "cell_type": "code",
   "execution_count": 188,
   "id": "0c05d002",
   "metadata": {},
   "outputs": [
    {
     "data": {
      "image/png": "[encoded data removed]",
      "text/plain": [
       "<Figure size 640x480 with 1 Axes>"
      ]
     },
     "metadata": {},
     "output_type": "display_data"
    }
   ],
   "source": [
    "# Predicted versus observed SOC\n",
    "plt.style.use('seaborn-whitegrid')\n",
    "fig = plt.figure()\n",
    "X_grid = np.linspace(math.floor(min(model.predict(x.values))), math.ceil(max(model.predict(x.values))),10000)  # X의 최소값부터 X의 최대값까지 0.01 단위로 값 채우기\n",
    "#X_grid = X_grid.reshape((len(X_grid),1))  # n X 1 행렬로 변환\n",
    "plt.scatter(model.predict(x.values), y.values, color='red')\n",
    "plt.scatter(X_grid,X_grid, color='blue')\n",
    "plt.title('SOC (Random Forest Regression)')\n",
    "plt.xlabel('predicted SOC')\n",
    "plt.ylabel('observedSOC')\n",
    "plt.show()"
   ]
  },
  {
   "cell_type": "code",
   "execution_count": 189,
   "id": "0bc6043f",
   "metadata": {},
   "outputs": [
    {
     "data": {
      "image/png": "[encoded data removed]",
      "text/plain": [
       "<Figure size 800x600 with 1 Axes>"
      ]
     },
     "metadata": {},
     "output_type": "display_data"
    }
   ],
   "source": [
    "# feature importance\n",
    "\n",
    "import matplotlib.pyplot as plt\n",
    "import seaborn as sns\n",
    "%matplotlib inline\n",
    " \n",
    "ftr_importances_values = model.feature_importances_\n",
    "ftr_importances = pd.Series(ftr_importances_values, index=x.columns)\n",
    "ftr_top = ftr_importances.sort_values(ascending=False)[:20]\n",
    " \n",
    "plt.figure(figsize=(8, 6))\n",
    "sns.barplot(x=ftr_top, y=ftr_top.index)\n",
    "plt.show()"
   ]
  },
  {
   "cell_type": "code",
   "execution_count": null,
   "id": "accd532d",
   "metadata": {},
   "outputs": [],
   "source": []
  }
 ],
 "metadata": {
  "kernelspec": {
   "display_name": "Python 3 (ipykernel)",
   "language": "python",
   "name": "python3"
  },
  "language_info": {
   "codemirror_mode": {
    "name": "ipython",
    "version": 3
   },
   "file_extension": ".py",
   "mimetype": "text/x-python",
   "name": "python",
   "nbconvert_exporter": "python",
   "pygments_lexer": "ipython3",
   "version": "3.8.13"
  }
 },
 "nbformat": 4,
 "nbformat_minor": 5
}
