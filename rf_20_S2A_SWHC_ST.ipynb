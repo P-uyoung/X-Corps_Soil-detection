{
 "cells": [
  {
   "cell_type": "code",
   "execution_count": 1,
   "id": "4f7327d1",
   "metadata": {},
   "outputs": [],
   "source": [
    "# random forest regressor on 20m resolution images\n",
    "\n",
    "import numpy as np\n",
    "import pandas as pd\n",
    "import sklearn\n",
    "import math"
   ]
  },
  {
   "cell_type": "code",
   "execution_count": 2,
   "id": "34200198",
   "metadata": {},
   "outputs": [],
   "source": [
    "df = pd.read_csv(r\"./dataset-Icheon&CHL/2000_20m_final_20221108.csv\", low_memory = False)"
   ]
  },
  {
   "cell_type": "code",
   "execution_count": 3,
   "id": "709308c6",
   "metadata": {},
   "outputs": [
    {
     "name": "stdout",
     "output_type": "stream",
     "text": [
      "<class 'pandas.core.frame.DataFrame'>\n",
      "RangeIndex: 279 entries, 0 to 278\n",
      "Data columns (total 42 columns):\n",
      " #   Column               Non-Null Count  Dtype  \n",
      "---  ------               --------------  -----  \n",
      " 0   id                   279 non-null    int64  \n",
      " 1   xcoord(long)         279 non-null    float64\n",
      " 2   ycoord(lat)          279 non-null    float64\n",
      " 3   sampling date        279 non-null    object \n",
      " 4   sensing date         279 non-null    object \n",
      " 5   B2                   279 non-null    int64  \n",
      " 6   B3                   279 non-null    int64  \n",
      " 7   B4                   279 non-null    int64  \n",
      " 8   B5                   279 non-null    int64  \n",
      " 9   B6                   279 non-null    int64  \n",
      " 10  B7                   279 non-null    int64  \n",
      " 11  B8A                  279 non-null    int64  \n",
      " 12  B11                  279 non-null    int64  \n",
      " 13  B12                  279 non-null    int64  \n",
      " 14  NDVI                 279 non-null    float64\n",
      " 15  BSI                  279 non-null    float64\n",
      " 16  TVI                  279 non-null    float64\n",
      " 17  EVI                  279 non-null    float64\n",
      " 18  SATVI                279 non-null    float64\n",
      " 19  SAVI                 279 non-null    float64\n",
      " 20  BI2                  279 non-null    float64\n",
      " 21  AVI                  279 non-null    float64\n",
      " 22  NDMI                 279 non-null    float64\n",
      " 23  C                    253 non-null    float64\n",
      " 24  S                    253 non-null    float64\n",
      " 25  SWHC                 279 non-null    float64\n",
      " 26  Sand (%)             279 non-null    float64\n",
      " 27  Silt (%)             279 non-null    float64\n",
      " 28  Clay (%)             279 non-null    float64\n",
      " 29  SOC                  279 non-null    float64\n",
      " 30  Moisture             279 non-null    float64\n",
      " 31  Unnamed: 31          0 non-null      float64\n",
      " 32  SWHC.1               85 non-null     object \n",
      " 33  S.1                  85 non-null     object \n",
      " 34  Unnamed: 34          85 non-null     object \n",
      " 35  C.1                  85 non-null     object \n",
      " 36  Unnamed: 36          85 non-null     object \n",
      " 37  ST                   85 non-null     object \n",
      " 38  Unnamed: 38          85 non-null     object \n",
      " 39  Unnamed: 39          85 non-null     object \n",
      " 40  id.1                 92 non-null     float64\n",
      " 41  m_v_0909 - m_v_0902  92 non-null     float64\n",
      "dtypes: float64(22), int64(10), object(10)\n",
      "memory usage: 91.7+ KB\n"
     ]
    }
   ],
   "source": [
    "df.info()"
   ]
  },
  {
   "cell_type": "code",
   "execution_count": 4,
   "id": "6ce98761",
   "metadata": {},
   "outputs": [],
   "source": [
    "df = pd.DataFrame(df[['B2','B3','B4','B5','B6','B7','B8A','B11','B12','NDVI','BSI','EVI','AVI','SAVI','NDMI','SWHC','Sand (%)','Silt (%)','Clay (%)','SOC']])"
   ]
  },
  {
   "cell_type": "code",
   "execution_count": 5,
   "id": "722dfb98",
   "metadata": {},
   "outputs": [
    {
     "data": {
      "text/html": [
       "<div>\n",
       "<style scoped>\n",
       "    .dataframe tbody tr th:only-of-type {\n",
       "        vertical-align: middle;\n",
       "    }\n",
       "\n",
       "    .dataframe tbody tr th {\n",
       "        vertical-align: top;\n",
       "    }\n",
       "\n",
       "    .dataframe thead th {\n",
       "        text-align: right;\n",
       "    }\n",
       "</style>\n",
       "<table border=\"1\" class=\"dataframe\">\n",
       "  <thead>\n",
       "    <tr style=\"text-align: right;\">\n",
       "      <th></th>\n",
       "      <th>B2</th>\n",
       "      <th>B3</th>\n",
       "      <th>B4</th>\n",
       "      <th>B5</th>\n",
       "      <th>B6</th>\n",
       "      <th>B7</th>\n",
       "      <th>B8A</th>\n",
       "      <th>B11</th>\n",
       "      <th>B12</th>\n",
       "      <th>NDVI</th>\n",
       "      <th>BSI</th>\n",
       "      <th>EVI</th>\n",
       "      <th>AVI</th>\n",
       "      <th>SAVI</th>\n",
       "      <th>NDMI</th>\n",
       "      <th>SWHC</th>\n",
       "      <th>Sand (%)</th>\n",
       "      <th>Silt (%)</th>\n",
       "      <th>Clay (%)</th>\n",
       "      <th>SOC</th>\n",
       "    </tr>\n",
       "  </thead>\n",
       "  <tbody>\n",
       "    <tr>\n",
       "      <th>0</th>\n",
       "      <td>2020</td>\n",
       "      <td>2555</td>\n",
       "      <td>3095</td>\n",
       "      <td>3264</td>\n",
       "      <td>3774</td>\n",
       "      <td>4137</td>\n",
       "      <td>4234</td>\n",
       "      <td>5107</td>\n",
       "      <td>4041</td>\n",
       "      <td>0.155410</td>\n",
       "      <td>0.134754</td>\n",
       "      <td>0.371979</td>\n",
       "      <td>-2461.869129</td>\n",
       "      <td>0.233099</td>\n",
       "      <td>-0.093459</td>\n",
       "      <td>0.70</td>\n",
       "      <td>68.0</td>\n",
       "      <td>30.5</td>\n",
       "      <td>1.6</td>\n",
       "      <td>0.71</td>\n",
       "    </tr>\n",
       "    <tr>\n",
       "      <th>1</th>\n",
       "      <td>1640</td>\n",
       "      <td>2002</td>\n",
       "      <td>2397</td>\n",
       "      <td>2781</td>\n",
       "      <td>3036</td>\n",
       "      <td>3232</td>\n",
       "      <td>3188</td>\n",
       "      <td>3986</td>\n",
       "      <td>3095</td>\n",
       "      <td>0.141629</td>\n",
       "      <td>0.138703</td>\n",
       "      <td>0.375166</td>\n",
       "      <td>-1821.351929</td>\n",
       "      <td>0.212425</td>\n",
       "      <td>-0.111235</td>\n",
       "      <td>0.70</td>\n",
       "      <td>68.0</td>\n",
       "      <td>30.5</td>\n",
       "      <td>1.6</td>\n",
       "      <td>0.71</td>\n",
       "    </tr>\n",
       "    <tr>\n",
       "      <th>2</th>\n",
       "      <td>1929</td>\n",
       "      <td>2325</td>\n",
       "      <td>2793</td>\n",
       "      <td>3124</td>\n",
       "      <td>3434</td>\n",
       "      <td>3429</td>\n",
       "      <td>3635</td>\n",
       "      <td>4849</td>\n",
       "      <td>3928</td>\n",
       "      <td>0.130989</td>\n",
       "      <td>0.157353</td>\n",
       "      <td>0.355184</td>\n",
       "      <td>-2044.453828</td>\n",
       "      <td>0.196469</td>\n",
       "      <td>-0.143093</td>\n",
       "      <td>0.70</td>\n",
       "      <td>68.0</td>\n",
       "      <td>30.5</td>\n",
       "      <td>1.6</td>\n",
       "      <td>0.71</td>\n",
       "    </tr>\n",
       "    <tr>\n",
       "      <th>3</th>\n",
       "      <td>2387</td>\n",
       "      <td>2955</td>\n",
       "      <td>3646</td>\n",
       "      <td>3441</td>\n",
       "      <td>4298</td>\n",
       "      <td>4607</td>\n",
       "      <td>4869</td>\n",
       "      <td>5624</td>\n",
       "      <td>4324</td>\n",
       "      <td>0.143629</td>\n",
       "      <td>0.121869</td>\n",
       "      <td>0.345734</td>\n",
       "      <td>-2789.467172</td>\n",
       "      <td>0.215431</td>\n",
       "      <td>-0.071953</td>\n",
       "      <td>0.70</td>\n",
       "      <td>68.0</td>\n",
       "      <td>30.5</td>\n",
       "      <td>1.6</td>\n",
       "      <td>0.71</td>\n",
       "    </tr>\n",
       "    <tr>\n",
       "      <th>4</th>\n",
       "      <td>3075</td>\n",
       "      <td>3914</td>\n",
       "      <td>4958</td>\n",
       "      <td>5340</td>\n",
       "      <td>5515</td>\n",
       "      <td>5755</td>\n",
       "      <td>5967</td>\n",
       "      <td>6441</td>\n",
       "      <td>4969</td>\n",
       "      <td>0.092357</td>\n",
       "      <td>0.115307</td>\n",
       "      <td>0.199352</td>\n",
       "      <td>-3101.858919</td>\n",
       "      <td>0.138529</td>\n",
       "      <td>-0.038201</td>\n",
       "      <td>0.75</td>\n",
       "      <td>75.2</td>\n",
       "      <td>23.6</td>\n",
       "      <td>1.2</td>\n",
       "      <td>0.86</td>\n",
       "    </tr>\n",
       "  </tbody>\n",
       "</table>\n",
       "</div>"
      ],
      "text/plain": [
       "     B2    B3    B4    B5    B6    B7   B8A   B11   B12      NDVI       BSI  \\\n",
       "0  2020  2555  3095  3264  3774  4137  4234  5107  4041  0.155410  0.134754   \n",
       "1  1640  2002  2397  2781  3036  3232  3188  3986  3095  0.141629  0.138703   \n",
       "2  1929  2325  2793  3124  3434  3429  3635  4849  3928  0.130989  0.157353   \n",
       "3  2387  2955  3646  3441  4298  4607  4869  5624  4324  0.143629  0.121869   \n",
       "4  3075  3914  4958  5340  5515  5755  5967  6441  4969  0.092357  0.115307   \n",
       "\n",
       "        EVI          AVI      SAVI      NDMI  SWHC  Sand (%)  Silt (%)  \\\n",
       "0  0.371979 -2461.869129  0.233099 -0.093459  0.70      68.0      30.5   \n",
       "1  0.375166 -1821.351929  0.212425 -0.111235  0.70      68.0      30.5   \n",
       "2  0.355184 -2044.453828  0.196469 -0.143093  0.70      68.0      30.5   \n",
       "3  0.345734 -2789.467172  0.215431 -0.071953  0.70      68.0      30.5   \n",
       "4  0.199352 -3101.858919  0.138529 -0.038201  0.75      75.2      23.6   \n",
       "\n",
       "   Clay (%)   SOC  \n",
       "0       1.6  0.71  \n",
       "1       1.6  0.71  \n",
       "2       1.6  0.71  \n",
       "3       1.6  0.71  \n",
       "4       1.2  0.86  "
      ]
     },
     "execution_count": 5,
     "metadata": {},
     "output_type": "execute_result"
    }
   ],
   "source": [
    "df.head()"
   ]
  },
  {
   "cell_type": "code",
   "execution_count": 6,
   "id": "21553fa8",
   "metadata": {},
   "outputs": [],
   "source": [
    "from sklearn.ensemble import RandomForestRegressor\n",
    "from sklearn.model_selection import cross_val_score\n",
    "from sklearn.model_selection import GridSearchCV\n",
    "from sklearn.model_selection import train_test_split\n",
    "from sklearn.metrics import mean_squared_error"
   ]
  },
  {
   "cell_type": "code",
   "execution_count": 7,
   "id": "fdccccbf",
   "metadata": {},
   "outputs": [],
   "source": [
    "# normalize1\n",
    "# band 값만 10000으로 나누기\n",
    "df['B2'] = df['B2']/10000\n",
    "df['B3'] = df['B3']/10000\n",
    "df['B4'] = df['B4']/10000\n",
    "df['B5'] = df['B5']/10000\n",
    "df['B6'] = df['B6']/10000\n",
    "df['B7'] = df['B7']/10000\n",
    "df['B8A'] = df['B8A']/10000\n",
    "df['B11'] = df['B11']/10000\n",
    "df['B12'] = df['B12']/10000\n"
   ]
  },
  {
   "cell_type": "code",
   "execution_count": 8,
   "id": "d7ff91c0",
   "metadata": {},
   "outputs": [
    {
     "name": "stdout",
     "output_type": "stream",
     "text": [
      "         B2      B3      B4      B5      B6      B7     B8A     B11     B12  \\\n",
      "0    0.2020  0.2555  0.3095  0.3264  0.3774  0.4137  0.4234  0.5107  0.4041   \n",
      "1    0.1640  0.2002  0.2397  0.2781  0.3036  0.3232  0.3188  0.3986  0.3095   \n",
      "2    0.1929  0.2325  0.2793  0.3124  0.3434  0.3429  0.3635  0.4849  0.3928   \n",
      "3    0.2387  0.2955  0.3646  0.3441  0.4298  0.4607  0.4869  0.5624  0.4324   \n",
      "4    0.3075  0.3914  0.4958  0.5340  0.5515  0.5755  0.5967  0.6441  0.4969   \n",
      "..      ...     ...     ...     ...     ...     ...     ...     ...     ...   \n",
      "274  0.2027  0.2407  0.2756  0.3122  0.3377  0.3449  0.3649  0.4283  0.3924   \n",
      "275  0.1895  0.2369  0.2891  0.3165  0.3277  0.3394  0.3603  0.4378  0.3873   \n",
      "276  0.1819  0.2208  0.2595  0.2881  0.3015  0.3146  0.3342  0.3940  0.3566   \n",
      "277  0.2043  0.2483  0.2853  0.3178  0.3425  0.3555  0.3656  0.4255  0.3901   \n",
      "278  0.1891  0.2344  0.2834  0.3052  0.3162  0.3352  0.3576  0.3887  0.3244   \n",
      "\n",
      "         NDVI       BSI       EVI       AVI      SAVI      NDMI      SWHC  \\\n",
      "0    0.155410  0.134754  0.371979 -0.246187  0.233099 -0.093459  0.700000   \n",
      "1    0.141629  0.138703  0.375166 -0.182135  0.212425 -0.111235  0.700000   \n",
      "2    0.130989  0.157353  0.355184 -0.204445  0.196469 -0.143093  0.700000   \n",
      "3    0.143629  0.121869  0.345734 -0.278947  0.215431 -0.071953  0.700000   \n",
      "4    0.092357  0.115307  0.199352 -0.310186  0.138529 -0.038201  0.750000   \n",
      "..        ...       ...       ...       ...       ...       ...       ...   \n",
      "274  0.139422  0.107196  0.447978 -0.207834  0.209117 -0.079929  0.600000   \n",
      "275  0.109640  0.138717  0.264193 -0.194991  0.164447 -0.097106  0.733333   \n",
      "276  0.125821  0.117476  0.354331 -0.186394  0.188716 -0.082120  0.733333   \n",
      "277  0.123368  0.110018  0.368180 -0.203060  0.185037 -0.075717  0.733333   \n",
      "278  0.115757  0.102888  0.289912 -0.195892  0.173621 -0.041672  0.900000   \n",
      "\n",
      "      Sand (%)  Silt (%)  Clay (%)   SOC  \n",
      "0    68.000000      30.5  1.600000  0.71  \n",
      "1    68.000000      30.5  1.600000  0.71  \n",
      "2    68.000000      30.5  1.600000  0.71  \n",
      "3    68.000000      30.5  1.600000  0.71  \n",
      "4    75.200000      23.6  1.200000  0.86  \n",
      "..         ...       ...       ...   ...  \n",
      "274  95.358650       0.0  4.641350  3.22  \n",
      "275  94.552529       0.0  5.447471  3.30  \n",
      "276  94.552529       0.0  5.447471  3.30  \n",
      "277  94.552529       0.0  5.447471  3.30  \n",
      "278  92.207792       0.0  7.792208  2.51  \n",
      "\n",
      "[279 rows x 20 columns]\n"
     ]
    }
   ],
   "source": [
    "df['AVI'] = df['AVI']/10000\n",
    "print(df)"
   ]
  },
  {
   "cell_type": "code",
   "execution_count": 9,
   "id": "9f8102f3",
   "metadata": {},
   "outputs": [
    {
     "name": "stdout",
     "output_type": "stream",
     "text": [
      "         B2      B3      B4      B5      B6      B7     B8A     B11     B12  \\\n",
      "0    0.2020  0.2555  0.3095  0.3264  0.3774  0.4137  0.4234  0.5107  0.4041   \n",
      "1    0.1640  0.2002  0.2397  0.2781  0.3036  0.3232  0.3188  0.3986  0.3095   \n",
      "2    0.1929  0.2325  0.2793  0.3124  0.3434  0.3429  0.3635  0.4849  0.3928   \n",
      "3    0.2387  0.2955  0.3646  0.3441  0.4298  0.4607  0.4869  0.5624  0.4324   \n",
      "4    0.3075  0.3914  0.4958  0.5340  0.5515  0.5755  0.5967  0.6441  0.4969   \n",
      "..      ...     ...     ...     ...     ...     ...     ...     ...     ...   \n",
      "274  0.2027  0.2407  0.2756  0.3122  0.3377  0.3449  0.3649  0.4283  0.3924   \n",
      "275  0.1895  0.2369  0.2891  0.3165  0.3277  0.3394  0.3603  0.4378  0.3873   \n",
      "276  0.1819  0.2208  0.2595  0.2881  0.3015  0.3146  0.3342  0.3940  0.3566   \n",
      "277  0.2043  0.2483  0.2853  0.3178  0.3425  0.3555  0.3656  0.4255  0.3901   \n",
      "278  0.1891  0.2344  0.2834  0.3052  0.3162  0.3352  0.3576  0.3887  0.3244   \n",
      "\n",
      "         NDVI       BSI       EVI       AVI      SAVI      NDMI      SWHC  \\\n",
      "0    0.155410  0.134754  0.371979 -0.246187  0.233099 -0.093459  0.700000   \n",
      "1    0.141629  0.138703  0.375166 -0.182135  0.212425 -0.111235  0.700000   \n",
      "2    0.130989  0.157353  0.355184 -0.204445  0.196469 -0.143093  0.700000   \n",
      "3    0.143629  0.121869  0.345734 -0.278947  0.215431 -0.071953  0.700000   \n",
      "4    0.092357  0.115307  0.199352 -0.310186  0.138529 -0.038201  0.750000   \n",
      "..        ...       ...       ...       ...       ...       ...       ...   \n",
      "274  0.139422  0.107196  0.447978 -0.207834  0.209117 -0.079929  0.600000   \n",
      "275  0.109640  0.138717  0.264193 -0.194991  0.164447 -0.097106  0.733333   \n",
      "276  0.125821  0.117476  0.354331 -0.186394  0.188716 -0.082120  0.733333   \n",
      "277  0.123368  0.110018  0.368180 -0.203060  0.185037 -0.075717  0.733333   \n",
      "278  0.115757  0.102888  0.289912 -0.195892  0.173621 -0.041672  0.900000   \n",
      "\n",
      "      Sand (%)  Silt (%)  Clay (%)  \n",
      "0    68.000000      30.5  1.600000  \n",
      "1    68.000000      30.5  1.600000  \n",
      "2    68.000000      30.5  1.600000  \n",
      "3    68.000000      30.5  1.600000  \n",
      "4    75.200000      23.6  1.200000  \n",
      "..         ...       ...       ...  \n",
      "274  95.358650       0.0  4.641350  \n",
      "275  94.552529       0.0  5.447471  \n",
      "276  94.552529       0.0  5.447471  \n",
      "277  94.552529       0.0  5.447471  \n",
      "278  92.207792       0.0  7.792208  \n",
      "\n",
      "[279 rows x 19 columns]\n"
     ]
    }
   ],
   "source": [
    "x = df.iloc[:, :-1]\n",
    "print(x)"
   ]
  },
  {
   "cell_type": "code",
   "execution_count": 10,
   "id": "bef1cbae",
   "metadata": {},
   "outputs": [],
   "source": [
    "y = df.iloc[:, -1:]"
   ]
  },
  {
   "cell_type": "code",
   "execution_count": 11,
   "id": "5cf59f2f",
   "metadata": {},
   "outputs": [
    {
     "name": "stdout",
     "output_type": "stream",
     "text": [
      "      SOC\n",
      "0    0.71\n",
      "1    0.71\n",
      "2    0.71\n",
      "3    0.71\n",
      "4    0.86\n",
      "..    ...\n",
      "274  3.22\n",
      "275  3.30\n",
      "276  3.30\n",
      "277  3.30\n",
      "278  2.51\n",
      "\n",
      "[279 rows x 1 columns]\n"
     ]
    }
   ],
   "source": [
    "print(y)"
   ]
  },
  {
   "cell_type": "code",
   "execution_count": 12,
   "id": "3483d91b",
   "metadata": {},
   "outputs": [],
   "source": [
    "x_train, x_test, y_train, y_test = train_test_split(x.values, y.values, test_size=0.25, random_state=0)"
   ]
  },
  {
   "cell_type": "code",
   "execution_count": 13,
   "id": "d5f1ad49",
   "metadata": {},
   "outputs": [],
   "source": [
    "##########모델 생성\n",
    "\n",
    "model = RandomForestRegressor()"
   ]
  },
  {
   "cell_type": "code",
   "execution_count": 14,
   "id": "677e8b9c",
   "metadata": {},
   "outputs": [],
   "source": [
    "### Tree 최적화\n"
   ]
  },
  {
   "cell_type": "code",
   "execution_count": 15,
   "id": "7684681f",
   "metadata": {},
   "outputs": [
    {
     "data": {
      "text/html": [
       "<style>#sk-container-id-1 {color: black;background-color: white;}#sk-container-id-1 pre{padding: 0;}#sk-container-id-1 div.sk-toggleable {background-color: white;}#sk-container-id-1 label.sk-toggleable__label {cursor: pointer;display: block;width: 100%;margin-bottom: 0;padding: 0.3em;box-sizing: border-box;text-align: center;}#sk-container-id-1 label.sk-toggleable__label-arrow:before {content: \"▸\";float: left;margin-right: 0.25em;color: #696969;}#sk-container-id-1 label.sk-toggleable__label-arrow:hover:before {color: black;}#sk-container-id-1 div.sk-estimator:hover label.sk-toggleable__label-arrow:before {color: black;}#sk-container-id-1 div.sk-toggleable__content {max-height: 0;max-width: 0;overflow: hidden;text-align: left;background-color: #f0f8ff;}#sk-container-id-1 div.sk-toggleable__content pre {margin: 0.2em;color: black;border-radius: 0.25em;background-color: #f0f8ff;}#sk-container-id-1 input.sk-toggleable__control:checked~div.sk-toggleable__content {max-height: 200px;max-width: 100%;overflow: auto;}#sk-container-id-1 input.sk-toggleable__control:checked~label.sk-toggleable__label-arrow:before {content: \"▾\";}#sk-container-id-1 div.sk-estimator input.sk-toggleable__control:checked~label.sk-toggleable__label {background-color: #d4ebff;}#sk-container-id-1 div.sk-label input.sk-toggleable__control:checked~label.sk-toggleable__label {background-color: #d4ebff;}#sk-container-id-1 input.sk-hidden--visually {border: 0;clip: rect(1px 1px 1px 1px);clip: rect(1px, 1px, 1px, 1px);height: 1px;margin: -1px;overflow: hidden;padding: 0;position: absolute;width: 1px;}#sk-container-id-1 div.sk-estimator {font-family: monospace;background-color: #f0f8ff;border: 1px dotted black;border-radius: 0.25em;box-sizing: border-box;margin-bottom: 0.5em;}#sk-container-id-1 div.sk-estimator:hover {background-color: #d4ebff;}#sk-container-id-1 div.sk-parallel-item::after {content: \"\";width: 100%;border-bottom: 1px solid gray;flex-grow: 1;}#sk-container-id-1 div.sk-label:hover label.sk-toggleable__label {background-color: #d4ebff;}#sk-container-id-1 div.sk-serial::before {content: \"\";position: absolute;border-left: 1px solid gray;box-sizing: border-box;top: 0;bottom: 0;left: 50%;z-index: 0;}#sk-container-id-1 div.sk-serial {display: flex;flex-direction: column;align-items: center;background-color: white;padding-right: 0.2em;padding-left: 0.2em;position: relative;}#sk-container-id-1 div.sk-item {position: relative;z-index: 1;}#sk-container-id-1 div.sk-parallel {display: flex;align-items: stretch;justify-content: center;background-color: white;position: relative;}#sk-container-id-1 div.sk-item::before, #sk-container-id-1 div.sk-parallel-item::before {content: \"\";position: absolute;border-left: 1px solid gray;box-sizing: border-box;top: 0;bottom: 0;left: 50%;z-index: -1;}#sk-container-id-1 div.sk-parallel-item {display: flex;flex-direction: column;z-index: 1;position: relative;background-color: white;}#sk-container-id-1 div.sk-parallel-item:first-child::after {align-self: flex-end;width: 50%;}#sk-container-id-1 div.sk-parallel-item:last-child::after {align-self: flex-start;width: 50%;}#sk-container-id-1 div.sk-parallel-item:only-child::after {width: 0;}#sk-container-id-1 div.sk-dashed-wrapped {border: 1px dashed gray;margin: 0 0.4em 0.5em 0.4em;box-sizing: border-box;padding-bottom: 0.4em;background-color: white;}#sk-container-id-1 div.sk-label label {font-family: monospace;font-weight: bold;display: inline-block;line-height: 1.2em;}#sk-container-id-1 div.sk-label-container {text-align: center;}#sk-container-id-1 div.sk-container {/* jupyter's `normalize.less` sets `[hidden] { display: none; }` but bootstrap.min.css set `[hidden] { display: none !important; }` so we also need the `!important` here to be able to override the default hidden behavior on the sphinx rendered scikit-learn.org. See: https://github.com/scikit-learn/scikit-learn/issues/21755 */display: inline-block !important;position: relative;}#sk-container-id-1 div.sk-text-repr-fallback {display: none;}</style><div id=\"sk-container-id-1\" class=\"sk-top-container\"><div class=\"sk-text-repr-fallback\"><pre>RandomForestRegressor()</pre><b>In a Jupyter environment, please rerun this cell to show the HTML representation or trust the notebook. <br />On GitHub, the HTML representation is unable to render, please try loading this page with nbviewer.org.</b></div><div class=\"sk-container\" hidden><div class=\"sk-item\"><div class=\"sk-estimator sk-toggleable\"><input class=\"sk-toggleable__control sk-hidden--visually\" id=\"sk-estimator-id-1\" type=\"checkbox\" checked><label for=\"sk-estimator-id-1\" class=\"sk-toggleable__label sk-toggleable__label-arrow\">RandomForestRegressor</label><div class=\"sk-toggleable__content\"><pre>RandomForestRegressor()</pre></div></div></div></div></div>"
      ],
      "text/plain": [
       "RandomForestRegressor()"
      ]
     },
     "execution_count": 15,
     "metadata": {},
     "output_type": "execute_result"
    }
   ],
   "source": [
    "##########모델 학습\n",
    "\n",
    "model.fit(x_train, y_train.ravel())"
   ]
  },
  {
   "cell_type": "code",
   "execution_count": 16,
   "id": "48456b11",
   "metadata": {},
   "outputs": [
    {
     "name": "stdout",
     "output_type": "stream",
     "text": [
      "0.9840598360435518\n",
      "0.8792249798724048\n"
     ]
    }
   ],
   "source": [
    "##########모델 검증\n",
    "# R-squared\n",
    "\n",
    "print(model.score(x_train, y_train)) #\n",
    "\n",
    "print(model.score(x_test, y_test)) #"
   ]
  },
  {
   "cell_type": "code",
   "execution_count": 17,
   "id": "61384f75",
   "metadata": {},
   "outputs": [
    {
     "data": {
      "text/plain": [
       "0.9555695460570376"
      ]
     },
     "execution_count": 17,
     "metadata": {},
     "output_type": "execute_result"
    }
   ],
   "source": [
    "# R-squared\n",
    "\n",
    "model.score(x.values,y.values)"
   ]
  },
  {
   "cell_type": "code",
   "execution_count": 18,
   "id": "911cb6ee",
   "metadata": {},
   "outputs": [
    {
     "name": "stdout",
     "output_type": "stream",
     "text": [
      "(279, 19)\n",
      "(279,)\n",
      "(279, 1)\n"
     ]
    }
   ],
   "source": [
    "print(x.values.shape)\n",
    "print(model.predict(x.values).shape)\n",
    "print(y.values.shape)"
   ]
  },
  {
   "cell_type": "code",
   "execution_count": 21,
   "id": "0bc6043f",
   "metadata": {},
   "outputs": [
    {
     "data": {
      "image/png": "[encoded data removed]",
      "text/plain": [
       "<Figure size 800x600 with 1 Axes>"
      ]
     },
     "metadata": {},
     "output_type": "display_data"
    }
   ],
   "source": [
    "# feature importance\n",
    "\n",
    "import matplotlib.pyplot as plt\n",
    "import seaborn as sns\n",
    "%matplotlib inline\n",
    " \n",
    "ftr_importances_values = model.feature_importances_\n",
    "ftr_importances = pd.Series(ftr_importances_values, index=x.columns)\n",
    "ftr_top = ftr_importances.sort_values(ascending=False)[:20]\n",
    "\n",
    "plt.figure(figsize=(8, 6))\n",
    "sns.barplot(x=ftr_top, y=ftr_top.index)\n",
    "plt.title('Feature Importance (Random Forest Regression)')\n",
    "plt.show()"
   ]
  },
  {
   "cell_type": "code",
   "execution_count": 20,
   "id": "0c05d002",
   "metadata": {},
   "outputs": [
    {
     "data": {
      "image/png": "[encoded data removed]",
      "text/plain": [
       "<Figure size 640x480 with 1 Axes>"
      ]
     },
     "metadata": {},
     "output_type": "display_data"
    }
   ],
   "source": [
    "# Predicted versus observed SOC\n",
    "plt.style.use('seaborn-whitegrid')\n",
    "fig = plt.figure()\n",
    "X_grid = np.linspace(math.floor(min(model.predict(x.values))), math.ceil(max(model.predict(x.values))),10000)  # X의 최소값부터 X의 최대값까지 0.01 단위로 값 채우기\n",
    "#X_grid = X_grid.reshape((len(X_grid),1))  # n X 1 행렬로 변환\n",
    "plt.scatter(model.predict(x.values), y.values, color='red')\n",
    "plt.scatter(X_grid,X_grid, color='blue')\n",
    "plt.title('SOC (Random Forest Regression)')\n",
    "plt.xlabel('predicted SOC')\n",
    "plt.ylabel('observedSOC')\n",
    "plt.show()"
   ]
  },
  {
   "cell_type": "code",
   "execution_count": null,
   "id": "accd532d",
   "metadata": {},
   "outputs": [],
   "source": []
  }
 ],
 "metadata": {
  "kernelspec": {
   "display_name": "Python 3 (ipykernel)",
   "language": "python",
   "name": "python3"
  },
  "language_info": {
   "codemirror_mode": {
    "name": "ipython",
    "version": 3
   },
   "file_extension": ".py",
   "mimetype": "text/x-python",
   "name": "python",
   "nbconvert_exporter": "python",
   "pygments_lexer": "ipython3",
   "version": "3.8.13"
  }
 },
 "nbformat": 4,
 "nbformat_minor": 5
}
