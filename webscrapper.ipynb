{
 "cells": [
  {
   "cell_type": "code",
   "execution_count": 41,
   "id": "ad1af593",
   "metadata": {},
   "outputs": [],
   "source": [
    "import selenium\n",
    "from selenium import webdriver\n",
    "from selenium.webdriver.common.keys import Keys\n",
    "from time import sleep\n",
    "\n",
    "options = webdriver.ChromeOptions()\n",
    "options.add_argument('window-size=1920,1080')\n",
    "\n",
    "driver = webdriver.Chrome('chromedriver', options=options)\n",
    "driver.implicitly_wait(5)\n",
    "\n",
    "driver.get(url='https://agis.epis.or.kr/ASD/main/intro.do#')\n",
    "\n",
    "# 팝업 창 해제\n",
    "for i in range(10):\n",
    "    try:\n",
    "        driver.find_element(By.XPATH,\n",
    "            '//*[@id=\"chkPromotion\"]'\n",
    "        ).click()\n",
    "        break\n",
    "    except NoSuchElementException as e:\n",
    "        print('Retry in 1 second')\n",
    "        time.sleep(1)\n",
    "else:\n",
    "    raise e"
   ]
  },
  {
   "cell_type": "code",
   "execution_count": 58,
   "id": "474e104a",
   "metadata": {},
   "outputs": [
    {
     "name": "stdout",
     "output_type": "stream",
     "text": [
      "판독영상구분명 항공영상\n",
      "촬영연도 20200920\n",
      "작업연월 202201\n",
      "읍면동 관고동\n",
      "대표지번 217-1 답\n",
      "속성정보(판독명) 밭\n",
      "면적(㎡) 1,996.8\n"
     ]
    }
   ],
   "source": [
    "# 주소 검색을 먼저 합니다.\n",
    "# 마음에 드는 땅을 선택하고 다음의 코드를 실행합니다. \n",
    "\n",
    "list0 = [];\n",
    "list1 = [];\n",
    "\n",
    "table_id = driver.find_element(By.ID,'attValueTmpl')\n",
    "rows = table_id.find_elements(By.TAG_NAME, \"tr\") # get all of the rows in the table\n",
    "for row in rows:\n",
    "    # Get the columns (all the column 2) \n",
    "    col0 = row.find_elements(By.TAG_NAME, \"td\")[0]\n",
    "    col1 = row.find_elements(By.TAG_NAME, \"td\")[1]\n",
    "    print (col0.text, col1.text) #prints text from the element\n",
    "    list0.append(col0.text);\n",
    "    list1.append(col1.text);"
   ]
  },
  {
   "cell_type": "code",
   "execution_count": 63,
   "id": "fa032c29",
   "metadata": {},
   "outputs": [
    {
     "name": "stdout",
     "output_type": "stream",
     "text": [
      "{'판독영상구분명': '항공영상', '촬영연도': '20200920', '작업연월': '202201', '읍면동': '관고동', '대표지번': '217-1 답', '속성정보(판독명)': '밭', '면적(㎡)': '1,996.8'}\n",
      "{'판독영상구분명': '항공영상', '촬영연도': '20200920', '작업연월': '202201', '읍면동': '관고동', '대표지번': '217-1 답', '속성정보(판독명)': '밭', '면적(㎡)': '1,996.8', '도로명주소': '관고동217-1 답'}\n"
     ]
    }
   ],
   "source": [
    "# csv에 저장하기\n",
    "# 읍면동+대표지번, 속성정보, 면적으로 list만들기\n",
    "# table(3,0)+table(4,0), table(5,0), table(6,0)\n",
    "# pandas dataframe으로 저장\n",
    "# df를 csv로 저장\n",
    "# print(list1)\n",
    "#dictionary만들기\n",
    "dictionary = dict(zip(list0, list1))\n",
    "print (dictionary)\n",
    "dictionary['도로명주소'] = dictionary['읍면동']+dictionary['대표지번']\n",
    "print (dictionary)"
   ]
  },
  {
   "cell_type": "code",
   "execution_count": 74,
   "id": "d08b3a33",
   "metadata": {},
   "outputs": [
    {
     "name": "stdout",
     "output_type": "stream",
     "text": [
      "  판독영상구분명      촬영연도    작업연월  읍면동     대표지번 속성정보(판독명)    면적(㎡)       도로명주소\n",
      "0    항공영상  20200920  202201  관고동  217-1 답         밭  1,996.8  관고동217-1 답\n"
     ]
    }
   ],
   "source": [
    "#dictionary로 df 만들기\n",
    "\n",
    "import pandas as pd\n",
    "\n",
    "# df = pd.DataFrame.from_dict(dictionary, orient ='columns',\n",
    "#                        columns=['도로명주소', '속성정보(판독명)', '면적(㎡)'])\n",
    "\n",
    "df = pd.DataFrame([dictionary])\n",
    "print(df)\n",
    "df.to_csv('scrapped_result.csv', sep=',', na_rep='NaN')"
   ]
  },
  {
   "cell_type": "code",
   "execution_count": null,
   "id": "750ea09a",
   "metadata": {},
   "outputs": [],
   "source": []
  }
 ],
 "metadata": {
  "kernelspec": {
   "display_name": "Python 3 (ipykernel)",
   "language": "python",
   "name": "python3"
  },
  "language_info": {
   "codemirror_mode": {
    "name": "ipython",
    "version": 3
   },
   "file_extension": ".py",
   "mimetype": "text/x-python",
   "name": "python",
   "nbconvert_exporter": "python",
   "pygments_lexer": "ipython3",
   "version": "3.8.13"
  }
 },
 "nbformat": 4,
 "nbformat_minor": 5
}
